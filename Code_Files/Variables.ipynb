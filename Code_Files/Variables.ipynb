{
  "nbformat": 4,
  "nbformat_minor": 0,
  "metadata": {
    "colab": {
      "provenance": [],
      "gpuType": "T4"
    },
    "kernelspec": {
      "name": "python3",
      "display_name": "Python 3"
    },
    "language_info": {
      "name": "python"
    },
    "accelerator": "GPU"
  },
  "cells": [
    {
      "cell_type": "markdown",
      "source": [
        "# **First Program**"
      ],
      "metadata": {
        "id": "5n368lC2ltWU"
      }
    },
    {
      "cell_type": "code",
      "source": [
        "print (\"hello world\")"
      ],
      "metadata": {
        "id": "IHbJibd4l1C7",
        "colab": {
          "base_uri": "https://localhost:8080/"
        },
        "outputId": "e5741ffc-a212-4ed4-ff7d-e95d9e103f9b"
      },
      "execution_count": null,
      "outputs": [
        {
          "output_type": "stream",
          "name": "stdout",
          "text": [
            "hello world\n"
          ]
        }
      ]
    },
    {
      "cell_type": "markdown",
      "source": [
        "# **Print Function**"
      ],
      "metadata": {
        "id": "aI7tXbbHl5Bo"
      }
    },
    {
      "cell_type": "code",
      "source": [
        "print('Hello World!')\n",
        "print(\"i Code guru\")\n",
        "print('''hello world icode guru,''')\n",
        "print('''hello world icode guru,''')\n"
      ],
      "metadata": {
        "id": "8MKKqsHfn_Gq",
        "colab": {
          "base_uri": "https://localhost:8080/"
        },
        "outputId": "f61b302b-d1e2-4115-ef02-18c0655b904a",
        "collapsed": true
      },
      "execution_count": null,
      "outputs": [
        {
          "output_type": "stream",
          "name": "stdout",
          "text": [
            "Hello World!\n",
            "i Code guru\n",
            "hello world icode guru,\n",
            "hello world icode guru,\n"
          ]
        }
      ]
    },
    {
      "cell_type": "markdown",
      "source": [
        "# **Python Character Set**\n",
        "\n",
        "*   **Letters** : A to Z, a to z\n",
        "*   **Digits** : 0 to 9\n",
        "\n",
        "*  **Special Symbols** : + - * / etc.\n",
        "*   **Whitespaces** : Blank Space, tab,  return, newline, formfeed\n",
        "\n",
        "\n",
        "\n",
        "\n",
        "\n"
      ],
      "metadata": {
        "id": "O7GrchFelPus"
      }
    },
    {
      "cell_type": "markdown",
      "source": [
        "# **Python Variables**\n",
        "Variables are containers for storing data values.\n",
        "\n",
        "Python has no command for declaring a variable. There is no need to write the data type of a variable before it.\n",
        "\n",
        "A variable is created the moment you first assign a value to it."
      ],
      "metadata": {
        "id": "klJz2rAYma2k"
      }
    },
    {
      "cell_type": "code",
      "source": [
        "python = 100\n",
        "print(python)"
      ],
      "metadata": {
        "id": "Ygbt_2Ydn99D",
        "colab": {
          "base_uri": "https://localhost:8080/"
        },
        "outputId": "b7e1d2f5-4007-488c-fd21-abb2a4b1b537"
      },
      "execution_count": null,
      "outputs": [
        {
          "output_type": "stream",
          "name": "stdout",
          "text": [
            "100\n"
          ]
        }
      ]
    },
    {
      "cell_type": "markdown",
      "source": [
        "# **Rules for assigning name to variable**\n",
        "\n",
        "\n",
        "\n",
        "*   A variable name must start with a letter or the underscore character and there must be no white space in a variable name\n",
        "*   A variable name cannot start with a number\n",
        "\n",
        "\n",
        "*   A variable name can only contain alpha-numeric characters and underscores (A-z, 0-9, and _ ). No special characters are allowed i.e. @icode , Python$ are the invalid variables.\n",
        "*   Variable names are case-sensitive (age, Age and AGE are three different variables)"
      ],
      "metadata": {
        "id": "1fzfBdkqoAUL"
      }
    },
    {
      "cell_type": "code",
      "source": [
        "\n",
        "Python=5\n",
        "print(Python)\n",
        "5=python\n",
        "print(5)\n",
        "@icode=5\n",
        "print(@icode)\n",
        "name=\"ali\"\n",
        "Name=\" majid\"\n",
        "NAME=\"sana\"\n",
        "print(NAME)"
      ],
      "metadata": {
        "colab": {
          "base_uri": "https://localhost:8080/",
          "height": 106
        },
        "id": "cv5oP67cF7sf",
        "outputId": "6ce6ea1c-3a43-442f-c306-10218c5ff42a"
      },
      "execution_count": null,
      "outputs": [
        {
          "output_type": "error",
          "ename": "SyntaxError",
          "evalue": "cannot assign to literal here. Maybe you meant '==' instead of '='? (<ipython-input-1-ef4d880acb2c>, line 3)",
          "traceback": [
            "\u001b[0;36m  File \u001b[0;32m\"<ipython-input-1-ef4d880acb2c>\"\u001b[0;36m, line \u001b[0;32m3\u001b[0m\n\u001b[0;31m    5=python\u001b[0m\n\u001b[0m    ^\u001b[0m\n\u001b[0;31mSyntaxError\u001b[0m\u001b[0;31m:\u001b[0m cannot assign to literal here. Maybe you meant '==' instead of '='?\n"
          ]
        }
      ]
    },
    {
      "cell_type": "markdown",
      "source": [
        "# **Rules Practice**"
      ],
      "metadata": {
        "id": "0laWKQfPoiCN"
      }
    },
    {
      "cell_type": "code",
      "source": [
        "num = 6\n",
        "NUM = 5\n",
        "_num = 8\n",
        "print(_num)\n",
        "print(num)\n",
        "print(NUM)"
      ],
      "metadata": {
        "id": "ntvV8a1dofan",
        "colab": {
          "base_uri": "https://localhost:8080/"
        },
        "outputId": "9890298d-5f6f-4809-9509-4bd26369af93"
      },
      "execution_count": null,
      "outputs": [
        {
          "output_type": "stream",
          "name": "stdout",
          "text": [
            "8\n",
            "6\n",
            "5\n"
          ]
        }
      ]
    },
    {
      "cell_type": "markdown",
      "source": [
        "# **Types of variable name cases**\n",
        "\n",
        "**Camel Case**\n",
        "\n",
        "**Snake Case**\n",
        "\n",
        "**Pascal Case**"
      ],
      "metadata": {
        "id": "Hkobsfp7pNHR"
      }
    },
    {
      "cell_type": "code",
      "source": [
        "myName = 'MAJID'\n",
        "print(myName)\n",
        "\n",
        "my_name = 'MAJID'\n",
        "print(my_name)\n",
        "\n",
        "MyName = 'MAJID'\n",
        "print(MyName)"
      ],
      "metadata": {
        "id": "iYrhP8cGpTfJ",
        "colab": {
          "base_uri": "https://localhost:8080/"
        },
        "outputId": "0076e005-2541-4583-ff4d-19fdf59b3c73"
      },
      "execution_count": null,
      "outputs": [
        {
          "output_type": "stream",
          "name": "stdout",
          "text": [
            "MAJID\n",
            "MAJID\n",
            "MAJID\n"
          ]
        }
      ]
    },
    {
      "cell_type": "code",
      "source": [],
      "metadata": {
        "id": "_HSo5Y1Vvw2z"
      },
      "execution_count": null,
      "outputs": []
    },
    {
      "cell_type": "markdown",
      "source": [
        "# **Assigning values to the variable:**\n",
        "\n",
        "\n",
        "* Assigning multiple values to multiple variables\n",
        "  \n",
        "*   Assigning one value to multiple variables"
      ],
      "metadata": {
        "id": "NVz3DhlGpr9C"
      }
    },
    {
      "cell_type": "markdown",
      "source": [
        "#**Multiple Values to Multiple Variables**\n",
        "\n",
        "Python allows you to assign values to multiple variables in one line."
      ],
      "metadata": {
        "id": "vwTUi-fPp2S8"
      }
    },
    {
      "cell_type": "code",
      "source": [
        "\n",
        "\n",
        "x , y, z  = 2 , 3, 5\n",
        "x=8\n",
        "x = 7\n",
        "print(x)\n"
      ],
      "metadata": {
        "id": "5IImQE2Jp3U6",
        "colab": {
          "base_uri": "https://localhost:8080/"
        },
        "outputId": "1316c56f-2fcc-47fa-e24e-f6262f67044b"
      },
      "execution_count": null,
      "outputs": [
        {
          "output_type": "stream",
          "name": "stdout",
          "text": [
            "7\n"
          ]
        }
      ]
    },
    {
      "cell_type": "markdown",
      "source": [
        "#**One Value to Multiple Variables**\n",
        "\n",
        "You can also assign the same value to multiple variables in one line."
      ],
      "metadata": {
        "id": "pqrYyLQwqFYq"
      }
    },
    {
      "cell_type": "code",
      "source": [
        "a = b = c = \"iCodeGuru\"\n",
        "print(a)\n",
        "print(b)\n",
        "print(c)"
      ],
      "metadata": {
        "id": "rlRS_WASqGS2",
        "colab": {
          "base_uri": "https://localhost:8080/"
        },
        "outputId": "d60eff58-3d94-4fab-b764-dddb501eff4d"
      },
      "execution_count": null,
      "outputs": [
        {
          "output_type": "stream",
          "name": "stdout",
          "text": [
            "iCodeGuru\n",
            "iCodeGuru\n",
            "iCodeGuru\n"
          ]
        }
      ]
    },
    {
      "cell_type": "markdown",
      "source": [
        "#**Getting Address of a Variable**\n",
        "\n",
        "Use id function for it.\n",
        "\n",
        "The `id()` function returns a unique id for the specified object.\n",
        "\n",
        "All objects in Python has its own unique id.\n",
        "\n",
        "The id is assigned to the object when it is created.\n",
        "\n",
        "The id is the object's memory address, and will be different for each time you run the program."
      ],
      "metadata": {
        "id": "jUMaPYYeqaVZ"
      }
    },
    {
      "cell_type": "code",
      "source": [
        "x = 6\n",
        "x = 6\n",
        "y = 7\n",
        "y = 6\n",
        "print(x)\n",
        "print(id(x))\n",
        "print(id(x))\n",
        "print(id(y))\n",
        "print(id(y))"
      ],
      "metadata": {
        "id": "iCH7Bonhqfdx",
        "colab": {
          "base_uri": "https://localhost:8080/"
        },
        "outputId": "f5664181-1652-4cb0-b111-48f5b94d6e73"
      },
      "execution_count": null,
      "outputs": [
        {
          "output_type": "stream",
          "name": "stdout",
          "text": [
            "6\n",
            "135523851420048\n",
            "135523851420048\n",
            "135523851420048\n",
            "135523851420048\n"
          ]
        }
      ]
    },
    {
      "cell_type": "code",
      "source": [
        "x = 5.5\n",
        "y = 5\n",
        "print(id(x))\n",
        "print(id(y))"
      ],
      "metadata": {
        "colab": {
          "base_uri": "https://localhost:8080/"
        },
        "id": "ui27qqUxNeeU",
        "outputId": "c05adc97-9ed2-4e8b-882e-106b21aa0ac0"
      },
      "execution_count": null,
      "outputs": [
        {
          "output_type": "stream",
          "name": "stdout",
          "text": [
            "139993725291408\n",
            "139995007058288\n"
          ]
        }
      ]
    }
  ]
}