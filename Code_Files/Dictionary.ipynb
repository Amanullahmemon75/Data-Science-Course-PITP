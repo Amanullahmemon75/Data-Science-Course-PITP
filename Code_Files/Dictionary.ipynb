{
  "nbformat": 4,
  "nbformat_minor": 0,
  "metadata": {
    "colab": {
      "provenance": []
    },
    "kernelspec": {
      "name": "python3",
      "display_name": "Python 3"
    },
    "language_info": {
      "name": "python"
    }
  },
  "cells": [
    {
      "cell_type": "markdown",
      "source": [
        "# Dictionary in python\n",
        "\n",
        "*   Dictionaries are used to store data values in key:value pairs\n",
        "*   They are unordered , mutable(changeable)\n",
        "*   Don't allow duplicates keys\n",
        "*   Dictionaries are written with curly brackets\n"
      ],
      "metadata": {
        "id": "dL4zhatZbM5g"
      }
    },
    {
      "cell_type": "code",
      "source": [
        "# Dictionary Syntax\n",
        "# first = 1,2,3,4,5\n",
        "# first = 1,\"hello\" , True\n",
        "# print(first)\n",
        "# data = dict()\n",
        "# print(type(data))\n",
        "# first = 1\n",
        "# print(first)\n",
        "# first_dic = {\"key\": \"value\"}\n",
        "# print(type(first_dic))\n",
        "# person = {\n",
        "#     \"name\" : \"Reema\",\n",
        "#     \"age\": 21,\n",
        "#     \"height\": 42.5\n",
        "# }\n",
        "# print(person)\n",
        "\n",
        "# first = {'faisalabad' : '123' , 'lahore' : 1234}"
      ],
      "metadata": {
        "colab": {
          "base_uri": "https://localhost:8080/"
        },
        "id": "F1s-LHuTccXo",
        "outputId": "af9eb9f7-8f75-43e5-83ea-fae94d797bd8"
      },
      "execution_count": null,
      "outputs": [
        {
          "output_type": "stream",
          "name": "stdout",
          "text": [
            "{'name': 'Amna', 'age': 21, 'height': 42.5}\n"
          ]
        }
      ]
    },
    {
      "cell_type": "markdown",
      "source": [
        "# Length of a dictionary\n",
        "\n",
        "By using len() function, we can get the number of key-value pairs in a dictionary."
      ],
      "metadata": {
        "id": "U9XO1xKtchd0"
      }
    },
    {
      "cell_type": "code",
      "source": [
        "# len()\n",
        "product = {\n",
        "    \"id\":1,\n",
        "    \"name\": \"product no 1\",\n",
        "    \"type\":\"dress\",\n",
        "    \"price\":300,\n",
        "    \"size\":\"small\",\n",
        "    \"rank\":12\n",
        "}\n",
        "print(len(product))"
      ],
      "metadata": {
        "colab": {
          "base_uri": "https://localhost:8080/"
        },
        "id": "CTLcD7Zrc5LC",
        "outputId": "94f6656b-be36-4e7d-cd16-b048d6a8215f"
      },
      "execution_count": null,
      "outputs": [
        {
          "output_type": "stream",
          "name": "stdout",
          "text": [
            "6\n"
          ]
        }
      ]
    },
    {
      "cell_type": "markdown",
      "source": [
        "# Dictionary with multiple data types"
      ],
      "metadata": {
        "id": "aCyi3jALuWuJ"
      }
    },
    {
      "cell_type": "code",
      "source": [
        "# String\n",
        "# Integer\n",
        "# Boolean\n",
        "# List of integers\n",
        "# Nested dictionary\n",
        "# Float\n",
        "# Tuple\n",
        "\n",
        "user = {\n",
        "    \"name\":\"fatima\",\n",
        "    123 : 'hello',\n",
        "    (1,2): \"nono\",\n",
        "    \"dic\" : {\"1\" : \"first\",\"2\" : \"second\"}\n",
        "}\n",
        "# print(user)\n",
        "# (hello , value) = 'hsdshd' , \"hello\"\n",
        "# print(hello)\n",
        "# print(value)\n",
        "# print(123)\n"
      ],
      "metadata": {
        "colab": {
          "base_uri": "https://localhost:8080/"
        },
        "id": "PD3WqKg-u3LX",
        "outputId": "331fc276-cd65-487f-b0ad-febaa7ca5f09"
      },
      "execution_count": null,
      "outputs": [
        {
          "output_type": "stream",
          "name": "stdout",
          "text": [
            "{'name': 'fatima', 123: 'hello', (1, 2): 'nono', 'dic': {'1': 'first', '2': 'second'}}\n"
          ]
        }
      ]
    },
    {
      "cell_type": "markdown",
      "source": [
        "# Accessing Elements in dictionary\n",
        "There is no concept of indexes in dictionary. It is an ordered object but we cannot access elements by using its number indexes. For accessing dictionary elements, we use keys. These keys map the values present against them in dictionary."
      ],
      "metadata": {
        "id": "cjgpllUP1ZZ2"
      }
    },
    {
      "cell_type": "code",
      "source": [
        "# Access elements in dict\n",
        "person = {\n",
        "    'name':\"reema\",\n",
        "    'age':20,\n",
        "    'city':\"Hyderabad\"\n",
        "}\n",
        "print(len(person))\n",
        "print(person['name'])\n",
        "print(person['age'])\n",
        "print(person['city'])\n",
        "print(person['reema'])"
      ],
      "metadata": {
        "id": "BbK3iZOp7vSX",
        "colab": {
          "base_uri": "https://localhost:8080/",
          "height": 252
        },
        "outputId": "4eca1061-d56c-428e-b956-42cdb98efa4e"
      },
      "execution_count": null,
      "outputs": [
        {
          "output_type": "stream",
          "name": "stdout",
          "text": [
            "3\n",
            "amna\n",
            "20\n",
            "Faisalabad\n"
          ]
        },
        {
          "output_type": "error",
          "ename": "KeyError",
          "evalue": "'amna'",
          "traceback": [
            "\u001b[0;31m---------------------------------------------------------------------------\u001b[0m",
            "\u001b[0;31mKeyError\u001b[0m                                  Traceback (most recent call last)",
            "\u001b[0;32m<ipython-input-10-82633dae1005>\u001b[0m in \u001b[0;36m<cell line: 11>\u001b[0;34m()\u001b[0m\n\u001b[1;32m      9\u001b[0m \u001b[0mprint\u001b[0m\u001b[0;34m(\u001b[0m\u001b[0mperson\u001b[0m\u001b[0;34m[\u001b[0m\u001b[0;34m'age'\u001b[0m\u001b[0;34m]\u001b[0m\u001b[0;34m)\u001b[0m\u001b[0;34m\u001b[0m\u001b[0;34m\u001b[0m\u001b[0m\n\u001b[1;32m     10\u001b[0m \u001b[0mprint\u001b[0m\u001b[0;34m(\u001b[0m\u001b[0mperson\u001b[0m\u001b[0;34m[\u001b[0m\u001b[0;34m'city'\u001b[0m\u001b[0;34m]\u001b[0m\u001b[0;34m)\u001b[0m\u001b[0;34m\u001b[0m\u001b[0;34m\u001b[0m\u001b[0m\n\u001b[0;32m---> 11\u001b[0;31m \u001b[0mprint\u001b[0m\u001b[0;34m(\u001b[0m\u001b[0mperson\u001b[0m\u001b[0;34m[\u001b[0m\u001b[0;34m'amna'\u001b[0m\u001b[0;34m]\u001b[0m\u001b[0;34m)\u001b[0m\u001b[0;34m\u001b[0m\u001b[0;34m\u001b[0m\u001b[0m\n\u001b[0m",
            "\u001b[0;31mKeyError\u001b[0m: 'amna'"
          ]
        }
      ]
    },
    {
      "cell_type": "markdown",
      "source": [
        "# Duplicate Values in Dictionary\n",
        "\n",
        "* Values can be duplicated, but keys must be unique. If the same key is used multiple times, the most recent value will overwrite any previous values associated with that key.\n",
        "\n",
        "* This means the dictionary will only contain the key once, with the latest value assigned to it.\n",
        "\n"
      ],
      "metadata": {
        "id": "ih9NMcHl8JTT"
      }
    },
    {
      "cell_type": "code",
      "source": [
        "# duplicates values\n",
        "student = {\n",
        "    \"id\" : 1,\n",
        "    \"email\" : \"example@gmail.com\",\n",
        "    \"name\" : \"example@gmail.com\",\n",
        "    \"password\" :\"12345abs\"\n",
        "}\n",
        "print(student)"
      ],
      "metadata": {
        "id": "gwgDq99P9SNQ",
        "colab": {
          "base_uri": "https://localhost:8080/"
        },
        "outputId": "36e8b62a-cec1-4540-efca-a338a72854f4"
      },
      "execution_count": null,
      "outputs": [
        {
          "output_type": "stream",
          "name": "stdout",
          "text": [
            "{'id': 1, 'email': 'example@gmail.com', 'name': 'example@gmail.com', 'password': '12345abs'}\n"
          ]
        }
      ]
    },
    {
      "cell_type": "markdown",
      "source": [
        "# Add elements in Dictionary\n",
        "New elements can be added in dictionary simply by introducing a new key-value pair."
      ],
      "metadata": {
        "id": "VGaIJOMv9goi"
      }
    },
    {
      "cell_type": "code",
      "source": [
        "  # Add elements in dic\n",
        "student = {\n",
        "    \"id\" : 1,\n",
        "    \"email\" : \"example@gmail.com\",\n",
        "    \"name\" : \"example\",\n",
        "    \"password\" :\"12345abs\"\n",
        "}\n",
        "print(student)\n",
        "student[\"subject\"] = \"english\"\n",
        "print(student)"
      ],
      "metadata": {
        "id": "egqC_KIo9soN",
        "colab": {
          "base_uri": "https://localhost:8080/"
        },
        "outputId": "2acb8966-ed34-4c53-dad7-4eb1c9e50ef3"
      },
      "execution_count": null,
      "outputs": [
        {
          "output_type": "stream",
          "name": "stdout",
          "text": [
            "{'id': 1, 'email': 'example@gmail.com', 'name': 'example', 'password': '12345abs'}\n",
            "{'id': 1, 'email': 'example@gmail.com', 'name': 'example', 'password': '12345abs', 'subject': 'english'}\n"
          ]
        }
      ]
    },
    {
      "cell_type": "markdown",
      "source": [
        "# Change Value in a dictionary\n",
        "We can change a value in a dictionary by assigning new value to the key."
      ],
      "metadata": {
        "id": "ujOaMd1UN_V6"
      }
    },
    {
      "cell_type": "code",
      "source": [
        " # Change value in dic\n",
        "student = {\n",
        "    \"id\" : 1,\n",
        "    \"email\" : \"example@gmail.com\",\n",
        "    \"name\" : \"example\",\n",
        "    \"password\" :\"12345abs\"\n",
        "}\n",
        "print(student)\n",
        "student[\"id\"] = \"name\"\n",
        "print(student)"
      ],
      "metadata": {
        "id": "3Biu5UT6OBfo",
        "colab": {
          "base_uri": "https://localhost:8080/"
        },
        "outputId": "eff43467-fb12-491b-ee42-53da3a5f1b9e"
      },
      "execution_count": null,
      "outputs": [
        {
          "output_type": "stream",
          "name": "stdout",
          "text": [
            "{'id': 1, 'email': 'example@gmail.com', 'name': 'example', 'password': '12345abs'}\n",
            "{'id': 'name', 'email': 'example@gmail.com', 'name': 'example', 'password': '12345abs'}\n"
          ]
        }
      ]
    },
    {
      "cell_type": "markdown",
      "source": [
        "# Memebership Operators\n",
        "In dictionary, we can use membership operators to know whether a key present in a dictionary or not. It cannot be used to check values in dictionary"
      ],
      "metadata": {
        "id": "IqpcQt4WOQxc"
      }
    },
    {
      "cell_type": "code",
      "source": [
        "#membership\n"
      ],
      "metadata": {
        "id": "q1hgBh0VOYi3"
      },
      "execution_count": null,
      "outputs": []
    },
    {
      "cell_type": "code",
      "source": [
        " # Change value in dic\n",
        "student = {\n",
        "    \"id\" : 1,\n",
        "    \"email\" : \"example@gmail.com\",\n",
        "    \"name\" : \"example\",\n",
        "    \"password\" :\"12345abs\",\n",
        "    \"example\" : 234\n",
        "}\n",
        "print(\"example\" not in student)\n"
      ],
      "metadata": {
        "id": "ye7RHj2BYV_T",
        "colab": {
          "base_uri": "https://localhost:8080/"
        },
        "outputId": "20df2bba-cf25-46b8-8911-7f3fe385aca1"
      },
      "execution_count": null,
      "outputs": [
        {
          "output_type": "stream",
          "name": "stdout",
          "text": [
            "False\n"
          ]
        }
      ]
    },
    {
      "cell_type": "markdown",
      "source": [
        "# Iterating through Dictionary\n",
        "By using for loop, we can iterate through a dictionary"
      ],
      "metadata": {
        "id": "jM0ll-5LOdoM"
      }
    },
    {
      "cell_type": "code",
      "source": [
        "# for loop\n",
        "student = {\n",
        "    \"email\":\"example@fmail.com\",\n",
        "    \"name\":\"fatima\",\n",
        "    \"pasword\":\"ajdja\"\n",
        "}\n",
        "# print(student[\"email\"])\n",
        "# print(student[\"name\"])\n",
        "# print(student[\"pasword\"])\n",
        "# print(student[\"email\"])\n",
        "\n",
        "for i in student:\n",
        "  print(i)"
      ],
      "metadata": {
        "id": "F-WOUwgOP6mf",
        "colab": {
          "base_uri": "https://localhost:8080/"
        },
        "outputId": "7d068fd5-cd50-40d0-df68-0aa45ed67570"
      },
      "execution_count": null,
      "outputs": [
        {
          "output_type": "stream",
          "name": "stdout",
          "text": [
            "email\n",
            "name\n",
            "pasword\n"
          ]
        }
      ]
    },
    {
      "cell_type": "markdown",
      "source": [
        "# Nested Dictionary\n",
        "When there is another dictionary inside a dictionary, it is called nested dictionary"
      ],
      "metadata": {
        "id": "uBTXZSNjQmgy"
      }
    },
    {
      "cell_type": "code",
      "source": [
        "# nested dic\n",
        "\n",
        "student = {\n",
        "    \"email\":'233',\n",
        "    \"name\":\"fatima\",\n",
        "    \"pasword\":\"abcd\"\n",
        "}\n",
        "\n",
        "for i in student:\n",
        "  # print(i , student[i])\n",
        "  if(type(student[i]) == type({})):\n",
        "    for j in student[i]:\n",
        "      print(j , student[i][j])\n",
        "  else:\n",
        "    print(\"There is no nested dict exist in the student dict\")\n",
        "\n",
        "\n",
        "  # if(type(student[i]) == type(dict())):\n",
        "  #   for j in student[i]:\n",
        "  #     print(j , student[i][j])"
      ],
      "metadata": {
        "id": "sBXKcjffQtQZ",
        "colab": {
          "base_uri": "https://localhost:8080/"
        },
        "outputId": "4a0edd03-a798-4bc7-84a4-801bea157cb9"
      },
      "execution_count": null,
      "outputs": [
        {
          "output_type": "stream",
          "name": "stdout",
          "text": [
            "There is no nested dict exist in the student dict\n",
            "There is no nested dict exist in the student dict\n",
            "There is no nested dict exist in the student dict\n"
          ]
        }
      ]
    },
    {
      "cell_type": "markdown",
      "source": [
        "# **Dictionary Methods**\n",
        "\n",
        "\n",
        "* clear():\n",
        "It is used to clear data from a dictionary.\n",
        "* keys():\n",
        "It is used to get a list of all the keys present in a dictionary.\n",
        "* values():\n",
        "It is used to get a list of all the values present in a dictionary.\n",
        "* items():\n",
        "It is used to get all the elements of a dictionary.\n",
        "* get():\n",
        "It is used to get specified keys' value from a dictionary.\n",
        "* update(): It is used to update a dictionary with elements from another dictionary\n",
        "\n",
        "\n",
        "\n"
      ],
      "metadata": {
        "id": "3BLev07j2I50"
      }
    },
    {
      "cell_type": "code",
      "source": [
        "chair = {\n",
        "    \"id\": 1,\n",
        "    \"color\" : 'red',\n",
        "    \"price\" : {\n",
        "        'dollar' : 2,\n",
        "        'rupess' : 1000\n",
        "    }\n",
        "}\n",
        "print(len(chair))\n",
        "print(chair[\"color\"])\n",
        "# update\n",
        "chair['color'] = 'green'\n",
        "print(chair)\n",
        "# membership\n",
        "print('name' in chair)\n",
        "\n",
        "# for loop\n",
        "for j in chair:\n",
        "  print(j , chair[j])\n",
        "\n",
        "# nested\n",
        "print(chair['price']['dollar'])"
      ],
      "metadata": {
        "id": "53GOWsHg3GtT",
        "colab": {
          "base_uri": "https://localhost:8080/"
        },
        "outputId": "5ea06297-5c79-4a1c-9cc9-3ce8f94f5adb"
      },
      "execution_count": null,
      "outputs": [
        {
          "output_type": "stream",
          "name": "stdout",
          "text": [
            "3\n",
            "red\n",
            "{'id': 1, 'color': 'green', 'price': {'dollar': 2, 'rupess': 1000}}\n",
            "False\n",
            "id 1\n",
            "color green\n",
            "price {'dollar': 2, 'rupess': 1000}\n",
            "2\n"
          ]
        }
      ]
    },
    {
      "cell_type": "code",
      "source": [
        "student = {\n",
        "    \"name\" :'example',\n",
        "    'password' : 123\n",
        "}\n",
        "email = {\n",
        "    \"email\":\"hshfhs\"\n",
        "}\n",
        "student.update(email)\n",
        "print(student)\n",
        "# print(student)\n",
        "# student.clear()\n",
        "# print(student)\n",
        "# store_keys = student.keys()\n",
        "# print(store_keys)\n",
        "# for key in store_keys:\n",
        "#   print(key)\n",
        "# store_value = student.values()\n",
        "# print(store_value)\n",
        "# for value in store_value:\n",
        "#   print(value)\n",
        "\n",
        "\n",
        "# for data , data_no_2 in student.items():\n",
        "#   print(data , data_no_2)\n",
        "# print(student['email'])\n",
        "# print(student.get('email' , 'Not exist'))"
      ],
      "metadata": {
        "colab": {
          "base_uri": "https://localhost:8080/"
        },
        "id": "4lrAdOfSwJ69",
        "outputId": "37f9aa84-585c-4f8d-f700-b5035597149f"
      },
      "execution_count": null,
      "outputs": [
        {
          "output_type": "stream",
          "name": "stdout",
          "text": [
            "{'name': 'example', 'password': 123, 'email': 'hshfhs'}\n"
          ]
        }
      ]
    },
    {
      "cell_type": "markdown",
      "source": [
        "# Using del Statement\n",
        "The del statement removes the key and its associated value from the dictionary."
      ],
      "metadata": {
        "id": "6j1yc90tB_nU"
      }
    },
    {
      "cell_type": "code",
      "source": [
        "student = {\n",
        "    \"name\" :'example',\n",
        "    'password' : 123\n",
        "}\n",
        "del student['password']\n",
        "del student['name']\n",
        "print(student)"
      ],
      "metadata": {
        "id": "Bgo97XEqCCNB",
        "colab": {
          "base_uri": "https://localhost:8080/"
        },
        "outputId": "bea4ce67-fa52-4012-a54e-413b8051792c"
      },
      "execution_count": null,
      "outputs": [
        {
          "output_type": "stream",
          "name": "stdout",
          "text": [
            "{}\n"
          ]
        }
      ]
    },
    {
      "cell_type": "markdown",
      "source": [
        "# Using pop Method\n",
        "The pop method removes the key and returns its value. If the key is not found, you can provide a default value to return instead of raising an error."
      ],
      "metadata": {
        "id": "7d6-T3_HCCpI"
      }
    },
    {
      "cell_type": "code",
      "source": [
        "student = {\n",
        "    \"name\" :'example',\n",
        "    'password' : 123\n",
        "}\n",
        "student.pop('example' , 'None')"
      ],
      "metadata": {
        "id": "aGrROe21CdP8",
        "colab": {
          "base_uri": "https://localhost:8080/",
          "height": 35
        },
        "outputId": "9c9593f9-a333-4db5-9087-362e089f7f08"
      },
      "execution_count": null,
      "outputs": [
        {
          "output_type": "execute_result",
          "data": {
            "text/plain": [
              "'None'"
            ],
            "application/vnd.google.colaboratory.intrinsic+json": {
              "type": "string"
            }
          },
          "metadata": {},
          "execution_count": 19
        }
      ]
    },
    {
      "cell_type": "markdown",
      "source": [
        "# popitem method\n",
        " Python removes and returns the last key-value pair from the dictionary as a tuple. If the dictionary is empty, calling popitem raises a KeyError."
      ],
      "metadata": {
        "id": "o29NSmYYCdnw"
      }
    },
    {
      "cell_type": "code",
      "source": [
        "student = {\n",
        "    \"name\" : 'fatima',\n",
        "    'class' : 'python'\n",
        "}\n",
        "print(student)\n",
        "data = student.pop('class')\n",
        "print(data)\n",
        "print(student)"
      ],
      "metadata": {
        "id": "j4gjlcbQChet",
        "colab": {
          "base_uri": "https://localhost:8080/"
        },
        "outputId": "d8d74d96-e061-4c6c-ebf5-86e4b43b8ccc"
      },
      "execution_count": null,
      "outputs": [
        {
          "output_type": "stream",
          "name": "stdout",
          "text": [
            "{'name': 'fatima', 'class': 'python'}\n",
            "python\n",
            "{'name': 'fatima'}\n"
          ]
        }
      ]
    }
  ]
}