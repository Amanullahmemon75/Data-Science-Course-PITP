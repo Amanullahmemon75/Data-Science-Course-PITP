{
  "nbformat": 4,
  "nbformat_minor": 0,
  "metadata": {
    "colab": {
      "provenance": []
    },
    "kernelspec": {
      "name": "python3",
      "display_name": "Python 3"
    },
    "language_info": {
      "name": "python"
    }
  },
  "cells": [
    {
      "cell_type": "markdown",
      "source": [
        "# **Tuples**"
      ],
      "metadata": {
        "id": "owPOiVr6F1-q"
      }
    },
    {
      "cell_type": "markdown",
      "source": [
        "- A tuple is a collection of different data types which is ordered and unchangeable (immutable).\n",
        "- Tuples are written with round brackets, ().\n",
        "- Once a tuple is created, we cannot change its values.\n",
        "We cannot use add, insert, remove methods in a tuple because it is not modifiable (mutable). Unlike list, tuple has few methods."
      ],
      "metadata": {
        "id": "RjS-YN6EGHb8"
      }
    },
    {
      "cell_type": "code",
      "source": [
        "T1 = ('Nepal', 'Pakistan', 5 , 8.9 , 'Korean' )\n",
        "print(T1)\n",
        "\n",
        "\n",
        "t2 = tuple()\n",
        "print(type(t2))"
      ],
      "metadata": {
        "colab": {
          "base_uri": "https://localhost:8080/"
        },
        "id": "nQifJ1Tik_Qu",
        "outputId": "fbe5a2d8-e197-4509-a669-5afd90501af2"
      },
      "execution_count": null,
      "outputs": [
        {
          "output_type": "stream",
          "name": "stdout",
          "text": [
            "('Nepal', 'Pakistan', 5, 8.9, 'Korean')\n",
            "<class 'tuple'>\n"
          ]
        }
      ]
    },
    {
      "cell_type": "markdown",
      "source": [
        "#**Accessing Tuple Elements**\n",
        "\n",
        "Items in the tuples can be accessed by entering the index number inside square bracket.\n",
        "\n",
        "The index can be a positive index, a negative index or a range of the indices."
      ],
      "metadata": {
        "id": "VqafW0x9HTD0"
      }
    },
    {
      "cell_type": "code",
      "source": [
        "T1 = ('Nepal','Pakistan', 5 , 8.9 , 'Korean' )\n",
        "print(T1[1])\n",
        "\n",
        "# print(T1.__len__())\n",
        "\n",
        "\n",
        "\n",
        "print(len(T1))\n"
      ],
      "metadata": {
        "colab": {
          "base_uri": "https://localhost:8080/"
        },
        "id": "grmgsGg2lbiy",
        "outputId": "cabe706e-3916-4d05-f439-0f684ff7f2bd"
      },
      "execution_count": null,
      "outputs": [
        {
          "output_type": "stream",
          "name": "stdout",
          "text": [
            "Pakistan\n",
            "5\n",
            "5\n"
          ]
        }
      ]
    },
    {
      "cell_type": "markdown",
      "source": [
        "#**Membership Operator in Tuple**\n",
        "\n",
        "To determine if a specified item is present in a tuple use the `in` keyword:**"
      ],
      "metadata": {
        "id": "1DbG87HQKy3P"
      }
    },
    {
      "cell_type": "code",
      "source": [
        "T1 = ('Nepal','Pakistan', 5 , 8.9 , 'Korean')\n",
        "print('Indonesia' not in T1)\n",
        "print('Indonesia' in T1)\n"
      ],
      "metadata": {
        "colab": {
          "base_uri": "https://localhost:8080/"
        },
        "id": "CBbGl2BmmoHS",
        "outputId": "9de2e124-4520-47ad-d616-a1c08639d39a"
      },
      "execution_count": null,
      "outputs": [
        {
          "output_type": "stream",
          "name": "stdout",
          "text": [
            "True\n",
            "False\n"
          ]
        }
      ]
    },
    {
      "cell_type": "markdown",
      "source": [
        "#**Update Tuples**\n",
        "\n",
        "Tuples are immutable. You can't add or remove items in it. However, there are some hacks to do that."
      ],
      "metadata": {
        "id": "j3RznvOVK-Xu"
      }
    },
    {
      "cell_type": "code",
      "source": [
        "# T1 = ('Nepal','Pakistan', 5 , 8.9 , 'Korean')\n",
        "# x = list(T1)\n",
        "# x.append('indonesia')\n",
        "\n",
        "# T1 = tuple(x)\n",
        "# print(T1)\n",
        "\n",
        "\n",
        "\n",
        "# 2nd method\n",
        "# T1 = ('Nepal','Pakistan', 5 , 8.9 , 'Korean')\n",
        "# T2 = ('Python',)\n",
        "# T1 += T2\n",
        "# print(T1)\n",
        "\n",
        "\n",
        "# T1 = ('Nepal','Pakistan', 5 , 8.9 , 'Korean')\n",
        "# x = list(T1)\n",
        "# x.remove('Pakistan')\n",
        "\n",
        "# T1 = tuple(x)\n",
        "# print(T1)\n",
        "\n",
        "\n",
        "T1 = ('Nepal','Pakistan', 5 , 8.9 , 'Korean')\n",
        "\n",
        "\n",
        "\n"
      ],
      "metadata": {
        "colab": {
          "base_uri": "https://localhost:8080/"
        },
        "id": "Opyp4DudnaJV",
        "outputId": "29331eca-0f66-4f6a-82e7-66132f721eff"
      },
      "execution_count": null,
      "outputs": [
        {
          "output_type": "stream",
          "name": "stdout",
          "text": [
            "('Nepal', 5, 8.9, 'Korean')\n"
          ]
        }
      ]
    },
    {
      "cell_type": "markdown",
      "source": [
        "#**Join Tuples**\n",
        "\n",
        "To join tuples, you can use `+` operator."
      ],
      "metadata": {
        "id": "fV9R4T7VMJ2_"
      }
    },
    {
      "cell_type": "code",
      "source": [
        "join1 = (2, 4, 6, 7)\n",
        "join2 = ('Helo', 'World')\n",
        "join3 = ('Pakistan', 'India')\n",
        "print(join1 + join2 + join3)\n",
        "\n",
        "join1 += join2 + join3\n",
        "print(join1)"
      ],
      "metadata": {
        "colab": {
          "base_uri": "https://localhost:8080/"
        },
        "id": "Zv92mGclq-sM",
        "outputId": "09d193b8-479b-4cd4-fdf6-ebe9fbd04840"
      },
      "execution_count": null,
      "outputs": [
        {
          "output_type": "stream",
          "name": "stdout",
          "text": [
            "(2, 4, 6, 7, 'Helo', 'World', 'Pakistan', 'India')\n",
            "(2, 4, 6, 7, 'Helo', 'World', 'Pakistan', 'India')\n"
          ]
        }
      ]
    },
    {
      "cell_type": "markdown",
      "source": [
        "#**Multiply Tuples**\n",
        "\n",
        "If you want to multiply the content of a tuple a given number of times, you can use the `*` operator."
      ],
      "metadata": {
        "id": "tx8qORiqMXhW"
      }
    },
    {
      "cell_type": "code",
      "source": [
        "join1 = (2, 4, 6, 7)\n",
        "\n",
        "print(join1 * 5)\n",
        "\n"
      ],
      "metadata": {
        "colab": {
          "base_uri": "https://localhost:8080/"
        },
        "id": "8lWeS90Trybq",
        "outputId": "e835b2cb-3fc4-4189-fa09-972a5000679e"
      },
      "execution_count": null,
      "outputs": [
        {
          "output_type": "stream",
          "name": "stdout",
          "text": [
            "(2, 4, 6, 7, 2, 4, 6, 7, 2, 4, 6, 7, 2, 4, 6, 7, 2, 4, 6, 7)\n"
          ]
        }
      ]
    },
    {
      "cell_type": "markdown",
      "source": [
        "#**Tuple Methods**\n",
        "\n",
        "Python has two built-in methods for tuple.\n",
        "\n",
        "* `count()` method\n",
        "* `index()` method"
      ],
      "metadata": {
        "id": "LwBAm4fLMymT"
      }
    },
    {
      "cell_type": "code",
      "source": [
        "T1 = ('Nepal','Pakistan', 5 , 8.9 , 'Korean', 'Pakistan', 'Pakistan')\n",
        "print(T1.count('Pakistan'))\n",
        "\n",
        "print(T1.index(5))\n",
        "print(T1[-1])\n",
        "\n",
        "\n"
      ],
      "metadata": {
        "colab": {
          "base_uri": "https://localhost:8080/"
        },
        "id": "zbNqL8L1sPwG",
        "outputId": "09d7e1b3-0f00-4e84-b413-b816c6e28da2"
      },
      "execution_count": null,
      "outputs": [
        {
          "output_type": "stream",
          "name": "stdout",
          "text": [
            "3\n",
            "2\n",
            "Pakistan\n"
          ]
        }
      ]
    }
  ]
}