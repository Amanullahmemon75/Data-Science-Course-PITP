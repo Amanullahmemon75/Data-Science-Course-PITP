{
  "nbformat": 4,
  "nbformat_minor": 0,
  "metadata": {
    "colab": {
      "provenance": []
    },
    "kernelspec": {
      "name": "python3",
      "display_name": "Python 3"
    },
    "language_info": {
      "name": "python"
    }
  },
  "cells": [
    {
      "cell_type": "markdown",
      "source": [
        "# **Lecture No 13 : Sets**\n",
        "---"
      ],
      "metadata": {
        "id": "i14q94K54MTS"
      }
    },
    {
      "cell_type": "markdown",
      "source": [
        "#**Sets**\n",
        "\n",
        "Like lists and tuples, sets are used to store multiple values of different data types in a single variable.\n",
        "\n",
        "Set items are unordered, unindexed, unchangable and don't allow duplicate values.\n",
        "\n",
        "(Set items are unmutable, we can still add and remove items).\n",
        "\n",
        "Sets are written with curly brackets.\n",
        "\n",
        "# **Creating a Set**"
      ],
      "metadata": {
        "id": "3mCQql-14fpW"
      }
    },
    {
      "cell_type": "code",
      "source": [
        "set1 = {'Lahore', 'karachi','Faisalabad'}\n",
        "print(set1)\n",
        "print(type(set1))\n",
        "\n",
        "# built in function\n",
        "\n",
        "set2 = set()\n",
        "print(set2)\n",
        "\n",
        "\n",
        "#  Dulicates values\n",
        "\n",
        "set3 = {'Lahore', 'karachi','Faisalabad','Faisalabad' ,3 , 5, 7, 7,}\n",
        "print(set3)\n",
        "\n"
      ],
      "metadata": {
        "id": "UCDCsD5d5iom",
        "colab": {
          "base_uri": "https://localhost:8080/"
        },
        "outputId": "211f6433-b7cc-4787-a7c6-fb8a2db67b1e"
      },
      "execution_count": null,
      "outputs": [
        {
          "output_type": "stream",
          "name": "stdout",
          "text": [
            "{'karachi', 'Faisalabad', 'Lahore'}\n",
            "<class 'set'>\n",
            "set()\n",
            "{'karachi', 3, 'Faisalabad', 5, 7, 'Lahore'}\n"
          ]
        }
      ]
    },
    {
      "cell_type": "markdown",
      "source": [
        "#**Length of a Set**\n",
        "\n",
        "To determine how many items a set has, use the `len()` function."
      ],
      "metadata": {
        "id": "mSgIs0Da6pg3"
      }
    },
    {
      "cell_type": "code",
      "source": [
        "set1 = {'Lahore', 'karachi','Faisalabad'}"
      ],
      "metadata": {
        "id": "hYdzYusQ6srV"
      },
      "execution_count": null,
      "outputs": []
    },
    {
      "cell_type": "markdown",
      "source": [
        "#**Access Set Items**\n",
        "\n",
        "You cannot access items in a set by referring to an index or a key.\n",
        "\n",
        "But you can loop through the set items using a `for` loop, or ask if a specified value is present in a set, by using the `in` keyword."
      ],
      "metadata": {
        "id": "Tp2Fz2gE7H6p"
      }
    },
    {
      "cell_type": "code",
      "source": [
        "set1 = {'Lahore', 'karachi','Faisalabad'}\n",
        "\n",
        "if 'karachi' in set1:\n",
        "  print('True')\n",
        "else:\n",
        "  print(\"False\")\n",
        "\n",
        "# second\n",
        "print('Lahore' in set1)\n",
        "\n",
        "# loop\n",
        "\n",
        "for item in set1:\n",
        "  print(item)"
      ],
      "metadata": {
        "id": "8gVfn-DO7Isf",
        "colab": {
          "base_uri": "https://localhost:8080/"
        },
        "outputId": "0eb0dd3c-138c-4578-8b55-ec75fdc90624"
      },
      "execution_count": null,
      "outputs": [
        {
          "output_type": "stream",
          "name": "stdout",
          "text": [
            "True\n",
            "True\n",
            "karachi\n",
            "Faisalabad\n",
            "Lahore\n"
          ]
        }
      ]
    },
    {
      "cell_type": "markdown",
      "source": [
        "#**Add items in a Set**\n",
        "\n",
        "Once a set is created, you cannot change its items, but you can add new items.\n",
        "\n",
        "To add an item to a set, use the `add()` method.\n",
        "\n",
        "To add items from another set into the current set, use the `update()` method."
      ],
      "metadata": {
        "id": "Din6FV_O97q6"
      }
    },
    {
      "cell_type": "code",
      "source": [
        "# set1 = {'Lahore', 'karachi','Faisalabad'}\n",
        "# set1.add(\"peshawar\")\n",
        "# print(set1)\n",
        "\n",
        "\n",
        "# # update () for multiple items\n",
        "\n",
        "# set1 = {'Lahore', 'karachi','Faisalabad'}\n",
        "# set1.update(('item1', 'item2'))\n",
        "# print(set1)\n",
        "\n",
        "set1 = {'Lahore', 'karachi','Faisalabad'}\n",
        "set2 ={'tomato','potato'}\n",
        "set1.update(set2)\n",
        "print(set1)\n",
        "\n",
        "# set1."
      ],
      "metadata": {
        "id": "_F0rMut9-hrU",
        "colab": {
          "base_uri": "https://localhost:8080/"
        },
        "outputId": "c5acd504-582d-4f77-81bc-1cdebb75b695"
      },
      "execution_count": null,
      "outputs": [
        {
          "output_type": "stream",
          "name": "stdout",
          "text": [
            "{'karachi', 'Faisalabad', 'tomato', 'potato', 'Lahore'}\n"
          ]
        }
      ]
    },
    {
      "cell_type": "markdown",
      "source": [
        "#**Remove Set Items**"
      ],
      "metadata": {
        "id": "Bkjx9GUNAp7a"
      }
    },
    {
      "cell_type": "code",
      "source": [
        "# remove()\n",
        "\n",
        "\n",
        "set1 = {'Lahore', 'karachi','Faisalabad'}\n",
        "popped = set1.remove('Lahore')\n",
        "print(popped)\n",
        "print(set1)\n",
        "\n",
        "\n",
        "# pop()\n",
        "# set1 = {'Lahore', 'karachi','Faisalabad'}\n",
        "# set1.pop()\n",
        "# print(set1)\n",
        "\n",
        "# pop()\n",
        "# set1 = {'Lahore', 'karachi','Faisalabad'}\n",
        "# popped = set1.pop()\n",
        "# print(set1)\n",
        "# print(popped)\n",
        "\n",
        "\n",
        "# clear ()\n",
        "\n",
        "set1 = {'Lahore', 'karachi','Faisalabad'}\n",
        "print(set1.clear())\n",
        "\n",
        "\n",
        "set1.clear()\n",
        "print(set1)\n"
      ],
      "metadata": {
        "colab": {
          "base_uri": "https://localhost:8080/"
        },
        "id": "rVjMI2-z-LM9",
        "outputId": "c6c8b1c9-622e-422e-d0b1-938c8212cc2e"
      },
      "execution_count": null,
      "outputs": [
        {
          "output_type": "stream",
          "name": "stdout",
          "text": [
            "None\n",
            "{'Faisalabad', 'karachi'}\n",
            "None\n",
            "set()\n"
          ]
        }
      ]
    },
    {
      "cell_type": "markdown",
      "source": [
        "# **Joining Sets**\n",
        "\n",
        "We can join two sets using the `union()` method.\n",
        "\n",
        " **Union** : This method returns a new set"
      ],
      "metadata": {
        "id": "j_ewtT9UEyPB"
      }
    },
    {
      "cell_type": "code",
      "source": [
        "set1 = {'Lahore', 'karachi','Faisalabad'}\n",
        "set2 ={'tomato','potato'}\n",
        "print(set1.union(set2))"
      ],
      "metadata": {
        "colab": {
          "base_uri": "https://localhost:8080/"
        },
        "id": "3waEN5_C8xdq",
        "outputId": "39039e4d-f425-424c-8e17-75845d0b2ca6"
      },
      "execution_count": null,
      "outputs": [
        {
          "output_type": "stream",
          "name": "stdout",
          "text": [
            "{'tomato', 'Lahore', 'karachi', 'potato', 'Faisalabad'}\n"
          ]
        }
      ]
    },
    {
      "cell_type": "markdown",
      "source": [
        "# **Finding Intersection Items**\n",
        "Intersection returns a set of items which are in both the sets."
      ],
      "metadata": {
        "id": "-MbRbXeMGdQ2"
      }
    },
    {
      "cell_type": "code",
      "source": [
        "set1 = {'Lahore', 'karachi','Faisalabad'}\n",
        "set2 ={'tomato','potato', 'Faisalabad'}\n",
        "print(set1.intersection(set2))"
      ],
      "metadata": {
        "id": "sT4UR7MzGfuS",
        "colab": {
          "base_uri": "https://localhost:8080/"
        },
        "outputId": "cc47749a-87b5-4ce0-dac3-ce6ed5c6907f"
      },
      "execution_count": null,
      "outputs": [
        {
          "output_type": "stream",
          "name": "stdout",
          "text": [
            "{'Faisalabad'}\n"
          ]
        }
      ]
    },
    {
      "cell_type": "markdown",
      "source": [
        "# **Checking Subset and Super Set**\n",
        "A set can be a subset or super set of other sets:\n",
        "\n",
        "**Subset:** ` issubset()`\n",
        "\n",
        "**Super set**: `issuperset()`"
      ],
      "metadata": {
        "id": "XsUJvv3lHok0"
      }
    },
    {
      "cell_type": "code",
      "source": [
        "set1 = {0,1 ,2, 8, 4, 5}\n",
        "\n",
        "set2 = {0,1 ,2, 3, 4, 5, 6 ,7}\n",
        "# set2 = {2, 4, 6, 8,}\n",
        "\n",
        "print(set1.issubset(set2))\n",
        "print(set1 <= set2)"
      ],
      "metadata": {
        "id": "goDOzbm09PT4",
        "colab": {
          "base_uri": "https://localhost:8080/"
        },
        "outputId": "3a3e9669-84d9-4158-8956-527e5c7a09de"
      },
      "execution_count": null,
      "outputs": [
        {
          "output_type": "stream",
          "name": "stdout",
          "text": [
            "False\n",
            "False\n"
          ]
        }
      ]
    },
    {
      "cell_type": "code",
      "source": [
        "set1 = {0,1 ,2, 3, 4, 5}\n",
        "set2 = {0,1 ,2, 3, 4}\n",
        "\n",
        "print(set1.issuperset(set2))\n",
        "print(set1 >= set2)"
      ],
      "metadata": {
        "colab": {
          "base_uri": "https://localhost:8080/"
        },
        "id": "buod86CuojqI",
        "outputId": "8651912d-b4af-4cdc-ece4-eab5154651e6"
      },
      "execution_count": null,
      "outputs": [
        {
          "output_type": "stream",
          "name": "stdout",
          "text": [
            "True\n",
            "True\n"
          ]
        }
      ]
    },
    {
      "cell_type": "markdown",
      "source": [
        "# **Difference Between Two Sets**\n",
        "\n",
        "It returns the difference between two sets."
      ],
      "metadata": {
        "id": "9hK8LLBDJ3tz"
      }
    },
    {
      "cell_type": "code",
      "source": [
        "set1 = {0,1 ,2, 3, 4, 5}\n",
        "set2 = {0,1 ,2, 3, 4, 6,7,8}\n",
        "\n",
        "print(set1.difference(set2))\n",
        "print(set1 - set2 )"
      ],
      "metadata": {
        "id": "fm5oX8jI9i4_",
        "colab": {
          "base_uri": "https://localhost:8080/"
        },
        "outputId": "f799048a-1a46-4f0e-c09c-77e9579263de"
      },
      "execution_count": null,
      "outputs": [
        {
          "output_type": "stream",
          "name": "stdout",
          "text": [
            "{5}\n",
            "{5}\n"
          ]
        }
      ]
    },
    {
      "cell_type": "markdown",
      "source": [
        "# **Finding Symmetric Difference Between Two Sets**\n",
        "\n",
        "It returns the the symmetric difference between two sets. It means that it returns a set that contains all items from both sets, except items that are present in both sets, mathematically: `(A\\B) ∪ (B\\A)`\n",
        "\n"
      ],
      "metadata": {
        "id": "vjAaumE-KVyd"
      }
    },
    {
      "cell_type": "code",
      "source": [
        "set1 = {0,1 ,2, 3, 4, 5,10}\n",
        "set2 = {0,1 ,2, 3, 4,6,8,0,10}\n",
        "\n",
        "print(set1.symmetric_difference(set2))"
      ],
      "metadata": {
        "id": "dSzGHHpqQL_j",
        "colab": {
          "base_uri": "https://localhost:8080/"
        },
        "outputId": "6480f91e-59bb-4d71-9372-65a711327f7a"
      },
      "execution_count": null,
      "outputs": [
        {
          "output_type": "stream",
          "name": "stdout",
          "text": [
            "{5, 6, 8}\n"
          ]
        }
      ]
    },
    {
      "cell_type": "code",
      "source": [
        "# isdisjoint()\n",
        "\n",
        "set1 ={1, 3, 5, 7, 9}\n",
        "set2 = {2, 4, 6, 8,10}\n",
        "\n",
        "print(set1.isdisjoint(set2))"
      ],
      "metadata": {
        "colab": {
          "base_uri": "https://localhost:8080/"
        },
        "id": "LN19uWIFrKRe",
        "outputId": "434797cf-5cba-46a8-9844-5936ec9bd2cb"
      },
      "execution_count": null,
      "outputs": [
        {
          "output_type": "stream",
          "name": "stdout",
          "text": [
            "True\n"
          ]
        }
      ]
    },
    {
      "cell_type": "markdown",
      "source": [
        "## **Convert the ages to a set and compare the length of the list and the set, which one is bigger?**"
      ],
      "metadata": {
        "id": "AnrdIIhARS_l"
      }
    },
    {
      "cell_type": "code",
      "source": [
        "ages = [23, 58,45, 78, 96, 35, 23, 24]\n",
        "\n",
        "ages_set = set(ages) #  {23,24,35,45,58,78,96}\n",
        "\n",
        "list_len = len(ages) # 8\n",
        "set_len = len(ages_set) # 7\n",
        "\n",
        "\n",
        "if list_len > set_len:\n",
        "  print('This list is biger than set')\n",
        "elif list_len < set_len:\n",
        "  print('This set is biger than list')\n",
        "else:\n",
        "  print('The list and set both have same length')\n"
      ],
      "metadata": {
        "colab": {
          "base_uri": "https://localhost:8080/"
        },
        "id": "SzftDeJCsSKK",
        "outputId": "a5d05740-5353-400a-8c24-a8c425c46b41"
      },
      "execution_count": null,
      "outputs": [
        {
          "output_type": "stream",
          "name": "stdout",
          "text": [
            "This list is biger than set\n"
          ]
        }
      ]
    }
  ]
}