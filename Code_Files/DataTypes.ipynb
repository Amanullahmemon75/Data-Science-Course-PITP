{
  "nbformat": 4,
  "nbformat_minor": 0,
  "metadata": {
    "colab": {
      "provenance": []
    },
    "kernelspec": {
      "name": "python3",
      "display_name": "Python 3"
    },
    "language_info": {
      "name": "python"
    }
  },
  "cells": [
    {
      "cell_type": "markdown",
      "source": [
        "# **Lecture_03: Data Types!**"
      ],
      "metadata": {
        "id": "kDMZ5QxVpXiP"
      }
    },
    {
      "cell_type": "markdown",
      "source": [
        "# **Comments in Python**\n",
        "\n",
        "A comment is a piece of text within a program that is not executed. It can be used to provide additional information to aid in understanding the code.\n",
        "\n",
        "\n",
        "*   # **Single-line Comments**\n",
        "*   # **Multi-line Comments**\n",
        "\n",
        "\n"
      ],
      "metadata": {
        "id": "lv9L-qMJxx05"
      }
    },
    {
      "cell_type": "markdown",
      "source": [],
      "metadata": {
        "id": "MXzfw2OpastO"
      }
    },
    {
      "cell_type": "markdown",
      "source": [],
      "metadata": {
        "id": "fajncbn9a_0f"
      }
    },
    {
      "cell_type": "markdown",
      "source": [],
      "metadata": {
        "id": "pRbDqoBGaqrE"
      }
    },
    {
      "cell_type": "markdown",
      "source": [
        " **Single-line Comments**\n",
        "\n",
        " In Python, the `#` character is used to start a comment.\n",
        "\n",
        "\n",
        "\n"
      ],
      "metadata": {
        "id": "LbpVoxG5zDPz"
      }
    },
    {
      "cell_type": "code",
      "source": [
        "print(\"Helo World's \") # here's\n",
        " # his is a comments\n",
        "print('data science')\n",
        "\n",
        "print(\"Helo world\")\n",
        "# print(\"This world is so beautiful\")\n",
        "print(\"not\")"
      ],
      "metadata": {
        "id": "bt1eCAuy1S9c",
        "colab": {
          "base_uri": "https://localhost:8080/"
        },
        "outputId": "ff639a8c-8cf2-4568-92ec-229336992523"
      },
      "execution_count": null,
      "outputs": [
        {
          "output_type": "stream",
          "name": "stdout",
          "text": [
            "Helo World's \n",
            "icodeguru\n",
            "Helo world\n",
            "not\n"
          ]
        }
      ]
    },
    {
      "cell_type": "markdown",
      "source": [
        " **Multi-line Comments**\n",
        "\n",
        " To add a multiline comment you could insert a `#` for each line\n",
        "\n",
        " Triple quotes ''' '''"
      ],
      "metadata": {
        "id": "INAZkDwfzcP1"
      }
    },
    {
      "cell_type": "code",
      "source": [
        "print('Helo World')\n",
        "\n",
        " \"\"\"\n",
        " his is a comments\n",
        "   written  in\n",
        "   more than one line\n",
        "   \"\"\"\n",
        "\n",
        "print('icodeguru')"
      ],
      "metadata": {
        "id": "SH-m6K1T07ok",
        "colab": {
          "base_uri": "https://localhost:8080/",
          "height": 106
        },
        "outputId": "4f614a62-f185-4156-f537-8f42ec3f9768"
      },
      "execution_count": null,
      "outputs": [
        {
          "output_type": "error",
          "ename": "IndentationError",
          "evalue": "unexpected indent (<ipython-input-5-33029724dd9f>, line 3)",
          "traceback": [
            "\u001b[0;36m  File \u001b[0;32m\"<ipython-input-5-33029724dd9f>\"\u001b[0;36m, line \u001b[0;32m3\u001b[0m\n\u001b[0;31m    \"\"\"\u001b[0m\n\u001b[0m    ^\u001b[0m\n\u001b[0;31mIndentationError\u001b[0m\u001b[0;31m:\u001b[0m unexpected indent\n"
          ]
        }
      ]
    },
    {
      "cell_type": "markdown",
      "source": [
        "# **Data Types**\n",
        "Following are some built-in data types in Python:\n",
        "\n",
        "\n",
        "*   Text Type:  `str` -->  \" \"\n",
        "*   Numeric Types:  `int`, `float`  -->  123, 12.97683\n",
        "*   Sequence Types: `list`, `tuple`  -->  [1,3,4,5] , (1,8,6,4)\n",
        "*   Mapping Type: `dict`  -->  {}\n",
        "*   Set Type: `set` -->  {[ ]}\n",
        "*   Boolean Type: `bool`  -->  TRUE and FALSE"
      ],
      "metadata": {
        "id": "4x4X-tsipZFU"
      }
    },
    {
      "cell_type": "code",
      "source": [
        "\n",
        "print('2')\n",
        "print(2.33)\n",
        "x = 'CLass3'\n",
        "print(x)\n",
        "y = True\n",
        "print(y)\n",
        "z=\"3\"\n",
        "print(z)\n",
        "print(type(z))\n",
        "x=6.0\n",
        "print(x)"
      ],
      "metadata": {
        "id": "qGOvrw73qjQR",
        "colab": {
          "base_uri": "https://localhost:8080/"
        },
        "outputId": "8b1cf800-e453-4c1f-c79d-fe4231c94222"
      },
      "execution_count": null,
      "outputs": [
        {
          "output_type": "stream",
          "name": "stdout",
          "text": [
            "2\n",
            "2.33\n",
            "CLass3\n",
            "True\n",
            "3\n",
            "<class 'str'>\n",
            "6.0\n"
          ]
        }
      ]
    },
    {
      "cell_type": "code",
      "source": [
        "a=\"10\"\n",
        "if a==10:\n",
        "  print(\"True\")\n",
        "else:\n",
        "  print(\"False\")\n",
        "\n",
        "print(type(a))"
      ],
      "metadata": {
        "colab": {
          "base_uri": "https://localhost:8080/"
        },
        "id": "mb-JQZcbUNHo",
        "outputId": "1ac93bd1-ab90-4c6e-b6b4-9e2cd35e314f"
      },
      "execution_count": null,
      "outputs": [
        {
          "output_type": "stream",
          "name": "stdout",
          "text": [
            "False\n",
            "<class 'str'>\n"
          ]
        }
      ]
    },
    {
      "cell_type": "code",
      "source": [],
      "metadata": {
        "id": "xXOs9FFMUL7Y"
      },
      "execution_count": null,
      "outputs": []
    },
    {
      "cell_type": "markdown",
      "source": [
        "# **Keywords**\n",
        "\n",
        "Python keywords are unique words reserved with defined meanings and functions that we can only apply for those functions.\n",
        "Keywords are not available to be assigned as variables or named functions.There are many keywords.\n",
        "\n",
        "---\n",
        "\n",
        "> True\n",
        "\n",
        "> False\n",
        "\n",
        "> if\n",
        "\n",
        "> else\n",
        "\n",
        "> return\n",
        "\n",
        "> print\n",
        "\n",
        "> def\n",
        "\n",
        "> while\n",
        "\n",
        "> import\n"
      ],
      "metadata": {
        "id": "d3OHIm712hXD"
      }
    },
    {
      "cell_type": "code",
      "source": [
        "returnn=10\n",
        "print(returnn)\n",
        "True=10\n",
        "print(True)"
      ],
      "metadata": {
        "colab": {
          "base_uri": "https://localhost:8080/"
        },
        "id": "SK2wnGTaU3Ww",
        "outputId": "9da63207-efdf-4bdf-c5e8-3e524757c8da"
      },
      "execution_count": null,
      "outputs": [
        {
          "output_type": "stream",
          "name": "stdout",
          "text": [
            "10\n"
          ]
        }
      ]
    },
    {
      "cell_type": "markdown",
      "source": [
        "# **Getting the Data type**\n",
        "\n",
        "You can get the data type of any object by using the **type()** function:"
      ],
      "metadata": {
        "id": "_8Wv0Q9frUXk"
      }
    },
    {
      "cell_type": "code",
      "source": [
        "true= \"helo\"\n",
        "print(true)\n",
        "\n",
        "x = 'CLass3'\n",
        "print(x)\n",
        "print(type(x))\n",
        "y = True\n",
        "print(y)\n",
        "print(type(y))\n",
        "z = 3\n",
        "print(type(z))"
      ],
      "metadata": {
        "id": "kS5lhY9j6Q78",
        "colab": {
          "base_uri": "https://localhost:8080/"
        },
        "outputId": "1ba90429-235f-40bf-f42a-c35118a37894"
      },
      "execution_count": null,
      "outputs": [
        {
          "output_type": "stream",
          "name": "stdout",
          "text": [
            "helo\n",
            "CLass3\n",
            "<class 'str'>\n",
            "True\n",
            "<class 'bool'>\n",
            "<class 'int'>\n"
          ]
        }
      ]
    },
    {
      "cell_type": "markdown",
      "source": [
        "# **Python Input () : Take Input from User**\n",
        "\n",
        "In Python, Using the `input() ` function, we take input from a user, and using the print() function, we display output on the screen.\n",
        "\n",
        "\n",
        "\n",
        "\n"
      ],
      "metadata": {
        "id": "Uip_PSoY6_sV"
      }
    },
    {
      "cell_type": "code",
      "source": [
        "x = int(input('enter a num: '))\n",
        "z = int(input('enter a num: '))\n",
        "print(x+z)\n",
        "y = 1\n",
        "print(type(y))\n",
        "print(type(x))"
      ],
      "metadata": {
        "id": "m1WIRYcq9g-A",
        "colab": {
          "base_uri": "https://localhost:8080/"
        },
        "outputId": "1ecc488d-c0cc-4caf-b436-7059089b54c0"
      },
      "execution_count": null,
      "outputs": [
        {
          "output_type": "stream",
          "name": "stdout",
          "text": [
            "enter a num: 2\n",
            "enter a num: 3\n",
            "5\n",
            "<class 'int'>\n",
            "<class 'int'>\n"
          ]
        }
      ]
    },
    {
      "cell_type": "markdown",
      "source": [
        "# **Type Casting in Python**\n",
        "We can change the data type of a variable or a value.\n",
        "\n",
        "\n",
        "*  str() function\n",
        "\n",
        "*  int() function  \n",
        "\n",
        "*  float() function\n"
      ],
      "metadata": {
        "id": "leqg_Ww79zAP"
      }
    },
    {
      "cell_type": "code",
      "source": [
        "x=2\n",
        "z=float(x)\n",
        "print(z)\n",
        "print(type(z))\n",
        "y=str(x)\n",
        "print(type(y))\n",
        "print(x)\n",
        "print(type(x))"
      ],
      "metadata": {
        "id": "PzMVqgir-m1v",
        "colab": {
          "base_uri": "https://localhost:8080/"
        },
        "outputId": "f7d541e8-fa2b-474c-e963-1db21376800c"
      },
      "execution_count": null,
      "outputs": [
        {
          "output_type": "stream",
          "name": "stdout",
          "text": [
            "2.0\n",
            "<class 'float'>\n",
            "<class 'str'>\n",
            "2\n",
            "<class 'int'>\n"
          ]
        }
      ]
    }
  ]
}