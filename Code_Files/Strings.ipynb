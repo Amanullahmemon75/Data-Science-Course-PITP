{
  "nbformat": 4,
  "nbformat_minor": 0,
  "metadata": {
    "colab": {
      "provenance": []
    },
    "kernelspec": {
      "name": "python3",
      "display_name": "Python 3"
    },
    "language_info": {
      "name": "python"
    }
  },
  "cells": [
    {
      "cell_type": "markdown",
      "source": [
        "# **Lecture_10**\n",
        "\n",
        "---\n",
        "\n"
      ],
      "metadata": {
        "id": "WDM4LmTpJIGd"
      }
    },
    {
      "cell_type": "markdown",
      "source": [
        "# **Strings**\n",
        "\n",
        "Text is a string data type. Any data type written as text is a **string**. Any data under single, double or triple quote are **strings**.There are different string methods and built-in functions to deal with string data types. To check the length of a string use the len() method."
      ],
      "metadata": {
        "id": "ojCgzUVjJaYl"
      }
    },
    {
      "cell_type": "markdown",
      "source": [
        "### **Creating a string**"
      ],
      "metadata": {
        "id": "6GF1YE-eLL5m"
      }
    },
    {
      "cell_type": "code",
      "source": [
        "letter = 'python'\n",
        "greeting = \"Helo, World\"\n",
        "print(letter)\n",
        "print(greeting)"
      ],
      "metadata": {
        "id": "totMfLzhLgvQ",
        "colab": {
          "base_uri": "https://localhost:8080/"
        },
        "outputId": "1b97db12-25ad-4f7d-8ab9-11b6d61fea8d"
      },
      "execution_count": null,
      "outputs": [
        {
          "output_type": "stream",
          "name": "stdout",
          "text": [
            "python\n",
            "Helo, World\n"
          ]
        }
      ]
    },
    {
      "cell_type": "markdown",
      "source": [
        "# **Multiline string**\n",
        "\n",
        "Multiline string is created by using triple single (''') or triple double quotes (\"\"\")."
      ],
      "metadata": {
        "id": "yQGy8lsrLhTH"
      }
    },
    {
      "cell_type": "code",
      "source": [
        "sentence = \"\"\"I hope your are\n",
        " enjoying python course\"\"\"\n",
        "\n",
        "sentence1 = '''I hope your are\n",
        " enjoying Data Science course'''\n",
        "print(sentence)\n",
        "print(sentence1)"
      ],
      "metadata": {
        "id": "ZBLyYjsst5_K",
        "colab": {
          "base_uri": "https://localhost:8080/"
        },
        "outputId": "d5d39c9c-a857-4b48-8cb6-5c3516180bc0"
      },
      "execution_count": null,
      "outputs": [
        {
          "output_type": "stream",
          "name": "stdout",
          "text": [
            "I hope your are\n",
            " enjoying python course\n"
          ]
        }
      ]
    },
    {
      "cell_type": "markdown",
      "source": [
        "# **String Concatenation**\n",
        "\n",
        "We can connect strings together. Merging or connecting strings is called **concatenation.**"
      ],
      "metadata": {
        "id": "NGBHJdsHufgZ"
      }
    },
    {
      "cell_type": "code",
      "source": [
        "language = 'pyhton'\n",
        "platform = 'Gexton'\n",
        "\n",
        "print(language + ' ' + platform)"
      ],
      "metadata": {
        "id": "ic27hBwIlxlf",
        "colab": {
          "base_uri": "https://localhost:8080/"
        },
        "outputId": "56ba8fd7-87b1-44a2-eb4a-892dd89111a8"
      },
      "execution_count": null,
      "outputs": [
        {
          "output_type": "stream",
          "name": "stdout",
          "text": [
            "pyhton icodeGuru\n"
          ]
        }
      ]
    },
    {
      "cell_type": "markdown",
      "source": [
        "# **Escape Sequences in Strings**\n",
        "In Python and other programming languages \\ followed by a character is an escape sequence. Let us see the most common escape characters:\n",
        "\n",
        "\\n: new line\n",
        "\n",
        "\\t: Tab\n",
        "\n",
        "\\\\: Back slash\n",
        "\n",
        " \\\\': Single quote (')\n",
        "\n",
        "\\\\\": Double quote (\")"
      ],
      "metadata": {
        "id": "MdFVxGxav1n3"
      }
    },
    {
      "cell_type": "code",
      "source": [
        "print('I hope everyone is enjoying the pyhton\\nAre you?')\n",
        "print('Data Science\\tWeek1\\tday3')\n",
        "print('I\\'m Reema, i\\'m teaching')\n",
        "print(\"in every programming language start with\\\"Helo, Data Science\\\"\")"
      ],
      "metadata": {
        "id": "T2lxMvTfRCAB",
        "colab": {
          "base_uri": "https://localhost:8080/"
        },
        "outputId": "b45ed399-aaaa-4e62-db0a-3ee67627b117"
      },
      "execution_count": null,
      "outputs": [
        {
          "output_type": "stream",
          "name": "stdout",
          "text": [
            "I hope everyone is enjoying the pyhton\n",
            "Are you?\n",
            "Python\tDay1\tday2\n",
            "I'm AaMna, i'm teaching\n",
            "in every programming language start with\"Helo worlld\"\n"
          ]
        }
      ]
    },
    {
      "cell_type": "markdown",
      "source": [
        "# **Accessing Characters in Strings by Index**\n",
        "\n",
        "In programming counting starts from zero. Therefore the first letter of a string is at zero index and the last letter of a string is the length of a string minus one."
      ],
      "metadata": {
        "id": "y3jBent4hs2X"
      }
    },
    {
      "cell_type": "code",
      "source": [
        "language = 'python'\n",
        "print(language[2])\n",
        "print(language[5])\n",
        "print(language[-1])\n",
        "# len()\n",
        "\n",
        "print(len(language))\n",
        "\n",
        "print(language[len(language)-1])\n",
        "\n"
      ],
      "metadata": {
        "colab": {
          "base_uri": "https://localhost:8080/"
        },
        "id": "aJwmjP-ITaMf",
        "outputId": "8325b17f-9aa6-4bb0-d1bc-eb491790f0f5"
      },
      "execution_count": null,
      "outputs": [
        {
          "output_type": "stream",
          "name": "stdout",
          "text": [
            "t\n",
            "n\n",
            "n\n",
            "6\n",
            "n\n"
          ]
        }
      ]
    },
    {
      "cell_type": "markdown",
      "source": [
        "# **Slicing Python Strings**\n",
        "In python we can slice strings into substrings."
      ],
      "metadata": {
        "id": "uiWl9pFCixxH"
      }
    },
    {
      "cell_type": "code",
      "source": [
        "platform = 'iCodeGuru'\n",
        "print(platform[0:5]) # [start: stop]\n",
        "print(platform[5:8]) # [include: exclude]\n",
        "print(platform[4:])"
      ],
      "metadata": {
        "colab": {
          "base_uri": "https://localhost:8080/"
        },
        "id": "KI7juPRgVWOz",
        "outputId": "45a38cbe-af90-492f-a7ae-cfab155f4afc"
      },
      "execution_count": null,
      "outputs": [
        {
          "output_type": "stream",
          "name": "stdout",
          "text": [
            "iCode\n",
            "Gur\n",
            "eGuru\n"
          ]
        }
      ]
    },
    {
      "cell_type": "markdown",
      "source": [
        "# **Reversing a String**\n",
        "We can easily reverse strings in python."
      ],
      "metadata": {
        "id": "gDDiU9TQlShV"
      }
    },
    {
      "cell_type": "code",
      "source": [
        "platform = 'iCodeGuru'\n",
        "print(platform[::-1]) # [start , stop , step]\n",
        "\n",
        "\n",
        "\n",
        "# text = \"Hello, World!\"\n",
        "# # world!\n",
        "# reversed = text[7:12][::-1]\n",
        "# print(reversed)\n",
        "\n",
        "#"
      ],
      "metadata": {
        "colab": {
          "base_uri": "https://localhost:8080/"
        },
        "id": "HE1FnxFRW8Mv",
        "outputId": "37731154-e5ab-40c9-ae9e-edc74095d80d"
      },
      "execution_count": null,
      "outputs": [
        {
          "output_type": "stream",
          "name": "stdout",
          "text": [
            "uruGedoCi\n"
          ]
        }
      ]
    },
    {
      "cell_type": "markdown",
      "source": [
        "# **Skipping Characters While Slicing**\n",
        "It is possible to skip characters while slicing by passing step argument to slice method."
      ],
      "metadata": {
        "id": "hVV_2pttlXhu"
      }
    },
    {
      "cell_type": "code",
      "source": [
        "platform = 'iCodeGuru'\n",
        "print(platform[0:6:3]) # [start , stop , step]\n",
        "\n",
        "# index = 0 char = i\n",
        "# index = 1 char = c\n",
        "# index = 2 char = o\n",
        "# index = 3 char = d\n",
        "# index = 4 char = e\n",
        "# index = 5 char = g\n",
        "\n"
      ],
      "metadata": {
        "colab": {
          "base_uri": "https://localhost:8080/"
        },
        "id": "PacnzYGNXZgw",
        "outputId": "ae7d3f65-c3b6-4c9b-a645-335fbf6e7ef5"
      },
      "execution_count": null,
      "outputs": [
        {
          "output_type": "stream",
          "name": "stdout",
          "text": [
            "id\n"
          ]
        }
      ]
    },
    {
      "cell_type": "markdown",
      "source": [
        "# **String formatting**\n",
        "In Python there are many ways of formatting strings.\n"
      ],
      "metadata": {
        "id": "leKep6nkjbWi"
      }
    },
    {
      "cell_type": "markdown",
      "source": [
        "# **String Interpolation / f-Strings (Python 3.6+)**\n",
        "\n",
        "Another new string formatting is string interpolation, f-strings. Strings start with f and we can inject the data in their corresponding positions."
      ],
      "metadata": {
        "id": "D53N3DxNkhUt"
      }
    },
    {
      "cell_type": "code",
      "source": [
        "# fstring\n",
        "name = input('Enter your name ')\n",
        "age = int(input('Enter your age '))\n",
        "format_string = f'Entered name is {name} and age is {age}' #string formatting\n",
        "print(format_string)"
      ],
      "metadata": {
        "id": "S5H2sGwAh7j8",
        "colab": {
          "base_uri": "https://localhost:8080/"
        },
        "outputId": "bd42a8f0-91d7-41d4-857f-96a9aa1ab8ac"
      },
      "execution_count": null,
      "outputs": [
        {
          "output_type": "stream",
          "name": "stdout",
          "text": [
            "Enter your name Sana\n",
            "Enter your age 25\n",
            "Entered name is Sana and age is 25\n"
          ]
        }
      ]
    },
    {
      "cell_type": "markdown",
      "source": [
        "# **String Methods**\n",
        "There are many string methods which allow us to format strings. See some of the string methods in the following example:"
      ],
      "metadata": {
        "id": "Q3Kw-k43lu2H"
      }
    },
    {
      "cell_type": "markdown",
      "source": [
        "- **capitalize():** Converts the first character of the string to capital letter"
      ],
      "metadata": {
        "id": "TEfjdewtmOAw"
      }
    },
    {
      "cell_type": "code",
      "source": [
        "language = 'python'\n",
        "print(language.capitalize())"
      ],
      "metadata": {
        "colab": {
          "base_uri": "https://localhost:8080/"
        },
        "id": "3e0ijmibO6VV",
        "outputId": "65b450c2-3fa7-4d70-8eb2-55385825afd8"
      },
      "execution_count": null,
      "outputs": [
        {
          "output_type": "stream",
          "name": "stdout",
          "text": [
            "Python\n"
          ]
        }
      ]
    },
    {
      "cell_type": "markdown",
      "source": [
        "- **count():** returns occurrences of substring in string.\n",
        "\n",
        "         - string.count(substring, start=..., end=...)\n"
      ],
      "metadata": {
        "id": "HQ3hhoQhmW8n"
      }
    },
    {
      "cell_type": "code",
      "source": [
        "lan = 'pythonononon'\n",
        "print(lan.count('o', 6, 8))"
      ],
      "metadata": {
        "colab": {
          "base_uri": "https://localhost:8080/"
        },
        "id": "FuP8oJDKbaV-",
        "outputId": "4fdb56f7-26d3-4b12-fabe-9b284f6df980"
      },
      "execution_count": null,
      "outputs": [
        {
          "output_type": "stream",
          "name": "stdout",
          "text": [
            "1\n"
          ]
        }
      ]
    },
    {
      "cell_type": "markdown",
      "source": [
        "- **startswith()** method returns True if the string starts with the specified value, otherwise False."
      ],
      "metadata": {
        "id": "hmccDseSdhc0"
      }
    },
    {
      "cell_type": "code",
      "source": [
        "lan = 'pythonononon'\n",
        "print(lan.startswith('P'))"
      ],
      "metadata": {
        "id": "ya_XXVnJdkdD",
        "colab": {
          "base_uri": "https://localhost:8080/"
        },
        "outputId": "d34956b7-479e-4441-eabe-9acbdd298103"
      },
      "execution_count": null,
      "outputs": [
        {
          "output_type": "stream",
          "name": "stdout",
          "text": [
            "False\n"
          ]
        }
      ]
    },
    {
      "cell_type": "markdown",
      "source": [
        "- **endswith():** Checks if a string ends with a specified ending"
      ],
      "metadata": {
        "id": "yhQ96luqqf2Z"
      }
    },
    {
      "cell_type": "code",
      "source": [
        "lan = 'pythonononon'\n",
        "print(lan.endswith('n'))"
      ],
      "metadata": {
        "id": "_lVpEjcSqixD",
        "colab": {
          "base_uri": "https://localhost:8080/"
        },
        "outputId": "163f9d03-41fd-404c-f364-b4d7d25f1535"
      },
      "execution_count": null,
      "outputs": [
        {
          "output_type": "stream",
          "name": "stdout",
          "text": [
            "True\n"
          ]
        }
      ]
    },
    {
      "cell_type": "markdown",
      "source": [
        "- **find()**: Returns the index of the first occurrence of a substring, if not found returns -1"
      ],
      "metadata": {
        "id": "SpDD5kzBqjM5"
      }
    },
    {
      "cell_type": "code",
      "source": [
        "lan = 'pythonononon'\n",
        "print(lan.find('n'))"
      ],
      "metadata": {
        "id": "ww8jk12-qzCk",
        "colab": {
          "base_uri": "https://localhost:8080/"
        },
        "outputId": "0ba933d0-424c-4ae5-cf7c-da94b014ca5c"
      },
      "execution_count": null,
      "outputs": [
        {
          "output_type": "stream",
          "name": "stdout",
          "text": [
            "5\n"
          ]
        }
      ]
    },
    {
      "cell_type": "markdown",
      "source": [
        "- **rfind():** Returns the index of the last occurrence of a substring, if not found returns -1"
      ],
      "metadata": {
        "id": "w0hDbY_-qzca"
      }
    },
    {
      "cell_type": "code",
      "source": [
        "lan = 'pythonononon'\n",
        "print(lan.rfind('n'))"
      ],
      "metadata": {
        "id": "CP9WR35zq743",
        "colab": {
          "base_uri": "https://localhost:8080/"
        },
        "outputId": "a3a633d6-e16c-4c4f-b9a3-74e5eeff4e10"
      },
      "execution_count": null,
      "outputs": [
        {
          "output_type": "stream",
          "name": "stdout",
          "text": [
            "11\n"
          ]
        }
      ]
    },
    {
      "cell_type": "markdown",
      "source": [
        "- **index():** Returns the lowest index of a substring, additional arguments indicate starting and ending index (default 0 and string length - 1). If the substring is not found it raises a valueError."
      ],
      "metadata": {
        "id": "S4k9d15Rq8KD"
      }
    },
    {
      "cell_type": "code",
      "source": [
        "lan = 'pythonononon'\n",
        "print(lan.index('n'))"
      ],
      "metadata": {
        "id": "KH4ZHNglrZQ-",
        "colab": {
          "base_uri": "https://localhost:8080/"
        },
        "outputId": "9c1970d3-5b32-4ec6-b1ba-eceb95a657c3"
      },
      "execution_count": null,
      "outputs": [
        {
          "output_type": "stream",
          "name": "stdout",
          "text": [
            "5\n"
          ]
        }
      ]
    },
    {
      "cell_type": "markdown",
      "source": [
        " - **rindex():** Returns the highest index of a substring, additional arguments indicate starting and ending index (default 0 and string length - 1)"
      ],
      "metadata": {
        "id": "gRb3D4lqXm5G"
      }
    },
    {
      "cell_type": "code",
      "source": [
        "lan = 'pythonononon'\n",
        "print(lan.rindex('n'))"
      ],
      "metadata": {
        "id": "EXiXvGQzXrns",
        "colab": {
          "base_uri": "https://localhost:8080/"
        },
        "outputId": "1ebd6564-d5c3-4e3e-8178-d03d9fdc0164"
      },
      "execution_count": null,
      "outputs": [
        {
          "output_type": "stream",
          "name": "stdout",
          "text": [
            "11\n"
          ]
        }
      ]
    },
    {
      "cell_type": "markdown",
      "source": [
        "\n",
        "\n",
        "*   The **lower()** method returns a string where all characters are lower case\n",
        "\n"
      ],
      "metadata": {
        "id": "UyAV687kivWb"
      }
    },
    {
      "cell_type": "code",
      "source": [
        "lan = 'Python'\n",
        "print(lan.lower())"
      ],
      "metadata": {
        "id": "_Zuu6JSdXEPT",
        "colab": {
          "base_uri": "https://localhost:8080/"
        },
        "outputId": "f2f84377-7b70-417e-ec82-26d4f2383310"
      },
      "execution_count": null,
      "outputs": [
        {
          "output_type": "stream",
          "name": "stdout",
          "text": [
            "python\n"
          ]
        }
      ]
    },
    {
      "cell_type": "markdown",
      "source": [
        "- **islower():** Checks if all alphabet characters in the string are lowercase"
      ],
      "metadata": {
        "id": "3laB6_RmsO6R"
      }
    },
    {
      "cell_type": "code",
      "source": [
        "lan = 'Python'\n",
        "print(lan.islower())"
      ],
      "metadata": {
        "id": "w8fNI5FOsS2M",
        "colab": {
          "base_uri": "https://localhost:8080/"
        },
        "outputId": "59c62dee-520d-426a-bcef-810a28e9f3ec"
      },
      "execution_count": null,
      "outputs": [
        {
          "output_type": "stream",
          "name": "stdout",
          "text": [
            "False\n"
          ]
        }
      ]
    },
    {
      "cell_type": "markdown",
      "source": [
        "-  **upper()** method returns a string where all characters are in upper case."
      ],
      "metadata": {
        "id": "gFeKksjbXOmL"
      }
    },
    {
      "cell_type": "code",
      "source": [
        "lan = 'Python'\n",
        "print(lan.upper())"
      ],
      "metadata": {
        "id": "2RJf8nlcXRYD",
        "colab": {
          "base_uri": "https://localhost:8080/"
        },
        "outputId": "c99332cb-ac99-4867-bd8a-c811387bf40a"
      },
      "execution_count": null,
      "outputs": [
        {
          "output_type": "stream",
          "name": "stdout",
          "text": [
            "PYTHON\n"
          ]
        }
      ]
    },
    {
      "cell_type": "markdown",
      "source": [
        "- The **isupper()** method returns **True** if all the characters are in upper case, otherwise **False.**\n",
        "\n",
        "  - Numbers, symbols and spaces are not checked, only alphabet characters."
      ],
      "metadata": {
        "id": "wntkgb-6X22p"
      }
    },
    {
      "cell_type": "code",
      "source": [
        "lan = 'PYTH2ON'\n",
        "print(lan.isupper())"
      ],
      "metadata": {
        "id": "shfZbEH8YLsa",
        "colab": {
          "base_uri": "https://localhost:8080/"
        },
        "outputId": "a7b5252d-f28c-49ea-f150-abc9f7657403"
      },
      "execution_count": null,
      "outputs": [
        {
          "output_type": "stream",
          "name": "stdout",
          "text": [
            "True\n"
          ]
        }
      ]
    },
    {
      "cell_type": "markdown",
      "source": [
        "- The **swapcase()** method returns a string where all the upper case letters are lower case and vice versa."
      ],
      "metadata": {
        "id": "PoNRYm8vcSXK"
      }
    },
    {
      "cell_type": "code",
      "source": [
        "lan = 'Python'\n",
        "print(lan.swapcase())"
      ],
      "metadata": {
        "id": "9_s7uD56cTr7",
        "colab": {
          "base_uri": "https://localhost:8080/"
        },
        "outputId": "adb13381-de5f-4d2e-dfbd-d3158d3baae5"
      },
      "execution_count": null,
      "outputs": [
        {
          "output_type": "stream",
          "name": "stdout",
          "text": [
            "pYTHON\n"
          ]
        }
      ]
    },
    {
      "cell_type": "markdown",
      "source": [
        "- **strip():** Remove spaces at the beginning and at the end of the string"
      ],
      "metadata": {
        "id": "9wX9_MNlYMJb"
      }
    },
    {
      "cell_type": "code",
      "source": [
        "lan = '!!Python!!'\n",
        "# print(lan.strip())\n",
        "print(len(lan))\n",
        "blank1 = lan.lstrip('!')\n",
        "print((blank1))\n",
        "blank2 = lan.rstrip()\n",
        "print(len(blank2))"
      ],
      "metadata": {
        "id": "qnww8lNqbVe8",
        "colab": {
          "base_uri": "https://localhost:8080/"
        },
        "outputId": "3319a2df-e7ae-4cf2-c526-af8451dfadb5"
      },
      "execution_count": null,
      "outputs": [
        {
          "output_type": "stream",
          "name": "stdout",
          "text": [
            "10\n",
            "Python!!\n",
            "10\n"
          ]
        }
      ]
    },
    {
      "cell_type": "markdown",
      "source": [
        "- **split():** Splits the string, using given string or space as a separator\n",
        "\n",
        "        string.split(separator, maxsplit)"
      ],
      "metadata": {
        "id": "bUybHnjXbRdM"
      }
    },
    {
      "cell_type": "code",
      "source": [
        "lang = 'We learn Python'\n",
        "helo = (lang.split(' ', 1))\n",
        "print(helo)"
      ],
      "metadata": {
        "id": "TeFH0D27bUOY",
        "colab": {
          "base_uri": "https://localhost:8080/"
        },
        "outputId": "7a00173a-b6bb-4447-a920-eaebfb36129f"
      },
      "execution_count": null,
      "outputs": [
        {
          "output_type": "stream",
          "name": "stdout",
          "text": [
            "['We learn Python']\n"
          ]
        }
      ]
    },
    {
      "cell_type": "markdown",
      "source": [
        "\n",
        "- The **title()** method returns a string where the first character in every word is upper case. Like a header, or a title."
      ],
      "metadata": {
        "id": "aMfpFLn7b6rr"
      }
    },
    {
      "cell_type": "code",
      "source": [
        "sentence = \"Python is powerful\"\n",
        "print(sentence.title())"
      ],
      "metadata": {
        "id": "nJg_ySlicFVH",
        "colab": {
          "base_uri": "https://localhost:8080/"
        },
        "outputId": "507fed57-00e5-443a-80c2-2ee491a8c180"
      },
      "execution_count": null,
      "outputs": [
        {
          "output_type": "stream",
          "name": "stdout",
          "text": [
            "Python Is Powerful\n"
          ]
        }
      ]
    },
    {
      "cell_type": "markdown",
      "source": [
        "- **replace():** Replaces substring with a given string"
      ],
      "metadata": {
        "id": "sEh1jNtgcacA"
      }
    },
    {
      "cell_type": "code",
      "source": [
        "# string .replace(old ,new)\n",
        "\n",
        "lang = 'Helo World! World is beautiful.World is big'\n",
        "print(lang.replace('World', 'Earth', 2,))"
      ],
      "metadata": {
        "id": "RT03707FcxtH",
        "colab": {
          "base_uri": "https://localhost:8080/"
        },
        "outputId": "03f5ebea-bd89-403d-aa59-b19b1e2282fe"
      },
      "execution_count": null,
      "outputs": [
        {
          "output_type": "stream",
          "name": "stdout",
          "text": [
            "Helo Earth! Earth is beautiful.World is big\n"
          ]
        }
      ]
    },
    {
      "cell_type": "markdown",
      "source": [
        "- **join()**: Returns a concatenate string"
      ],
      "metadata": {
        "id": "f3-OL5WJ-9Ef"
      }
    },
    {
      "cell_type": "code",
      "source": [
        "# separator.join(string/iterable)\n",
        "string = 'Python'\n",
        "print('$'.join(string))\n"
      ],
      "metadata": {
        "colab": {
          "base_uri": "https://localhost:8080/"
        },
        "id": "VGyohpjR_Cy2",
        "outputId": "02d3ad72-3e00-466b-fbb5-759db7202cd7"
      },
      "execution_count": null,
      "outputs": [
        {
          "output_type": "stream",
          "name": "stdout",
          "text": [
            "P$y$t$h$o$n\n"
          ]
        }
      ]
    },
    {
      "cell_type": "markdown",
      "source": [
        "- **isalpha():** Checks if all string elements are alphabet characters (a-z and A-Z)"
      ],
      "metadata": {
        "id": "SeJ3wrvkr1md"
      }
    },
    {
      "cell_type": "code",
      "source": [
        "string = 'Python22'\n",
        "print(string.isalpha())"
      ],
      "metadata": {
        "id": "2oVfQX7ccyhh",
        "colab": {
          "base_uri": "https://localhost:8080/"
        },
        "outputId": "6743b034-96d5-4cfa-99af-29bf16404e64"
      },
      "execution_count": null,
      "outputs": [
        {
          "output_type": "stream",
          "name": "stdout",
          "text": [
            "False\n"
          ]
        }
      ]
    },
    {
      "cell_type": "markdown",
      "source": [
        "- **isalnum():** Checks alphanumeric character"
      ],
      "metadata": {
        "id": "pKhlWjk4rZro"
      }
    },
    {
      "cell_type": "code",
      "source": [
        "string = 'Python22'\n",
        "print(string.isalnum())"
      ],
      "metadata": {
        "id": "Y_XWdYn6r0RH",
        "colab": {
          "base_uri": "https://localhost:8080/"
        },
        "outputId": "94aa9a2a-53fd-4f51-9524-4de3a1574121"
      },
      "execution_count": null,
      "outputs": [
        {
          "output_type": "stream",
          "name": "stdout",
          "text": [
            "True\n"
          ]
        }
      ]
    },
    {
      "cell_type": "markdown",
      "source": [
        "- **isdigit()** method returns True if all the characters are digits, otherwise False."
      ],
      "metadata": {
        "id": "RxQgtcaiEzWp"
      }
    },
    {
      "cell_type": "code",
      "source": [
        "string = '22'\n",
        "print(string.isdigit())"
      ],
      "metadata": {
        "colab": {
          "base_uri": "https://localhost:8080/"
        },
        "id": "5d3UTdV8bAWs",
        "outputId": "a0ef4031-eecc-43ba-81b2-2fb505a2e459"
      },
      "execution_count": null,
      "outputs": [
        {
          "output_type": "stream",
          "name": "stdout",
          "text": [
            "True\n"
          ]
        }
      ]
    },
    {
      "cell_type": "markdown",
      "source": [
        " Write a Python program to capitalize the first letter of each word in a sentence."
      ],
      "metadata": {
        "id": "_DmbgbHocVr2"
      }
    },
    {
      "cell_type": "code",
      "source": [
        "string = 'i hope u are good'\n",
        "print(string.title())"
      ],
      "metadata": {
        "colab": {
          "base_uri": "https://localhost:8080/"
        },
        "id": "fblqVC9yqvLy",
        "outputId": "e43ea819-5ee8-4c49-d6c6-0fe4ba0d46ed"
      },
      "execution_count": null,
      "outputs": [
        {
          "output_type": "stream",
          "name": "stdout",
          "text": [
            "I Hope U Are Good\n"
          ]
        }
      ]
    },
    {
      "cell_type": "markdown",
      "source": [
        "# **Write a Python program to find the index of the first occurrence of a substring in a string.**"
      ],
      "metadata": {
        "id": "HgY7fumHbDCb"
      }
    },
    {
      "cell_type": "code",
      "source": [
        "string = 'python is powerful and pyhton is a snake'\n",
        "print(string.rindex('python'))"
      ],
      "metadata": {
        "colab": {
          "base_uri": "https://localhost:8080/"
        },
        "id": "nWNrTDvvrRcS",
        "outputId": "4fb2bc6b-faa9-464a-a5cf-93a77770638a"
      },
      "execution_count": null,
      "outputs": [
        {
          "output_type": "stream",
          "name": "stdout",
          "text": [
            "0\n"
          ]
        }
      ]
    },
    {
      "cell_type": "markdown",
      "source": [
        "# **Write a Python program to find the length of the last word in a sentence.**"
      ],
      "metadata": {
        "id": "NhWuCEzsbAq4"
      }
    }
  ]
}