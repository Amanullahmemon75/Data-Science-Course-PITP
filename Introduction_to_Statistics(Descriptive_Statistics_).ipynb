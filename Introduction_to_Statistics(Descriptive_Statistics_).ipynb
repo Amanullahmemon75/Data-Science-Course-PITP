{
  "nbformat": 4,
  "nbformat_minor": 0,
  "metadata": {
    "colab": {
      "provenance": [],
      "collapsed_sections": [
        "tkEYncJQeZ50"
      ],
      "authorship_tag": "ABX9TyOB1sUn29Y3AkckYh9SRU9a",
      "include_colab_link": true
    },
    "kernelspec": {
      "name": "python3",
      "display_name": "Python 3"
    },
    "language_info": {
      "name": "python"
    }
  },
  "cells": [
    {
      "cell_type": "markdown",
      "metadata": {
        "id": "view-in-github",
        "colab_type": "text"
      },
      "source": [
        "<a href=\"https://colab.research.google.com/github/reemamemon/Data-Science-Course-PITP/blob/main/Introduction_to_Statistics(Descriptive_Statistics_).ipynb\" target=\"_parent\"><img src=\"https://colab.research.google.com/assets/colab-badge.svg\" alt=\"Open In Colab\"/></a>"
      ]
    },
    {
      "cell_type": "markdown",
      "source": [
        "# **Introduction to Statistics**"
      ],
      "metadata": {
        "id": "tkEYncJQeZ50"
      }
    },
    {
      "cell_type": "markdown",
      "source": [
        "**Statistics**\n",
        "\n",
        "**Definition:** Statistics is a **branch of mathematics** that deals with collecting, organizing, analyzing, and interpreting numerical data. It helps us make sense of the data by summarizing and drawing conclusions from it.\n",
        "\n",
        "**Example:** Suppose you have the ages of 5 people: 20, 25, 30, 35, and 40. Statistics will help you find the average age (mean), the most common age (mode), or how spread out these ages are (range).\n",
        "\n",
        "**Example:** When a teacher calculates the average score of a class test to see how well students performed, they are using statistics.\n",
        "\n",
        "**Types of Statistics:**\n",
        "1.   **Descriptive Statistics:**\n",
        "\n",
        "**Definition:** This type of statistics is used to describe and summarize data in a meaningful way.\n",
        "\n",
        "**Example:** Calculating the average (mean) score of students in a class, finding the most common test score (mode), or seeing how scores spread out (range).\n",
        "\n",
        "\n",
        "\n"
      ],
      "metadata": {
        "id": "yhNu2c5TY9wq"
      }
    },
    {
      "cell_type": "markdown",
      "source": [
        "**a. Measures of Central Tendency:**\n",
        "*   **Mean:** The average of a set of numbers.\n",
        "\n",
        "**Example:** If the test scores are 70, 80, and 90, the mean is (70+80+90)/3 = 80.\n",
        "* **Median:** The middle value when the numbers are sorted in order.\n",
        "\n",
        "**Example:** Median with Odd Number of Data Points\n",
        "Example: Let's say we have the following set of scores:\n",
        "Scores: 85, 90, 78\n",
        "\n",
        "Step 1: Arrange the data in ascending order:\n",
        "Ordered Scores: 78, 85, 90\n",
        "\n",
        "Step 2: Since there are 3 scores (an odd number), the median is the middle value:\n",
        "Median: 85\n",
        "\n",
        "**Example:** Median with Even Number of Data Points\n",
        "Example: Now, consider the following set of scores:\n",
        "Scores: 82, 76, 90, 88\n",
        "\n",
        "Step 1: Arrange the data in ascending order:\n",
        "Ordered Scores: 76, 82, 88, 90\n",
        "\n",
        "Step 2: Since there are 4 scores (an even number), the median is the average of the two middle values. The two middle values are 82 and 88.\n",
        "Median: (82 + 88) / 2 = 85\n",
        "\n",
        "* **Mode:** The value that appears most frequently in a dataset.\n",
        "\n",
        "**Example:** In the scores 60, 60, 70, and 80, the mode is 60.\n",
        "\n",
        "**Bimodal:** If a dataset has two values that occur with the highest frequency, it is called bimodal. For example, in the dataset:\n",
        "\n",
        "**Data:** 4, 1, 2, 4, 3, 2\n",
        "\n",
        "**Frequency:**\n",
        "\n",
        "4 appears twice\n",
        "\n",
        "2 appears twice\n",
        "\n",
        "Both 4 and 2 are the modes, so this dataset is bimodal.\n",
        "\n",
        "**Modes:** 2, 4\n",
        "\n",
        "**Multimodal:** If there are more than two values that occur with the highest frequency, it is called multimodal. For example:\n",
        "\n",
        "**Data:** 3, 1, 3, 2, 2, 1\n",
        "\n",
        "**Frequency:**\n",
        "\n",
        "3 appears twice\n",
        "\n",
        "2 appears twice\n",
        "\n",
        "1 appears twice\n",
        "\n",
        "Here, all three numbers (1, 2, 3) are modes. Thus, the dataset is multimodal.\n",
        "\n",
        "**Modes:** 1, 2, 3"
      ],
      "metadata": {
        "id": "IUlgTxKka_kb"
      }
    },
    {
      "cell_type": "markdown",
      "source": [
        "**b. Measures of Dispersion:**\n",
        "\n",
        "**Range:** The difference between the highest and lowest values.\n",
        "\n",
        "**Example:** If the highest score is 90 and the lowest is 60, the range is 90 - 60 = 30.\n",
        "\n",
        "**Variance:** It measures how much the numbers in a dataset differ from the mean.\n",
        "\n",
        "**Example:** If students' scores are close to the average, the variance is small. If scores are very different, the variance is larger.\n",
        "\n",
        "**Standard Deviation:** The square root of the variance, showing how spread out the values are.\n",
        "\n",
        "**Example:** In a class where all students score close to the average, the standard deviation is small."
      ],
      "metadata": {
        "id": "itOlnl2odhdR"
      }
    },
    {
      "cell_type": "markdown",
      "source": [
        "# Code of Descriptive Statistics:"
      ],
      "metadata": {
        "id": "nXsmbRGaee3v"
      }
    },
    {
      "cell_type": "code",
      "source": [
        "# Install libraries if not already installed:\n",
        "# Uncomment the line below to install the libraries in case they are not available in your environment\n",
        "# !pip install pandas numpy matplotlib seaborn"
      ],
      "metadata": {
        "id": "IwIHH2Wbe3_5"
      },
      "execution_count": null,
      "outputs": []
    },
    {
      "cell_type": "markdown",
      "source": [
        "**SciPy Library:** SciPy builds on NumPy and is designed for scientific and technical computing. It provides additional functionality for more complex mathematical operations, algorithms, and advanced numerical methods."
      ],
      "metadata": {
        "id": "Kiv0yHKL1mDt"
      }
    },
    {
      "cell_type": "code",
      "source": [
        "# Import necessary libraries\n",
        "import pandas as pd\n",
        "import numpy as np\n",
        "from scipy import stats\n",
        "import matplotlib.pyplot as plt\n",
        "import seaborn as sns\n",
        "from seaborn import load_dataset"
      ],
      "metadata": {
        "id": "BCI1PBn-evuQ"
      },
      "execution_count": null,
      "outputs": []
    },
    {
      "cell_type": "markdown",
      "source": [
        "**For this lab, we will use the Iris dataset, which contains information about different species of iris flowers and measurements of their sepals and petals.**"
      ],
      "metadata": {
        "id": "Rp0z3hvChTvk"
      }
    },
    {
      "cell_type": "code",
      "source": [
        "# Task 1: Load Data and do EDA\n",
        "\n",
        "# Load the Iris dataset\n",
        "data = sns.load_dataset(\"iris\")\n",
        "\n",
        "# Display the first few rows of the dataset\n",
        "print(\"Iris Dataset:\\n\", data.head())\n",
        "\n",
        "#Check the rows and columns of datasets\n",
        "print(\"\\nIris Dataset Shape:\", data.shape)\n",
        "\n",
        "#Check the columns\n",
        "print(\"\\nIris Dataset Columns:\", data.columns)\n",
        "\n",
        "#Check the empty data\n",
        "print(\"\\nIris Dataset Empty rows:\\n\", data.isnull().sum())"
      ],
      "metadata": {
        "colab": {
          "base_uri": "https://localhost:8080/"
        },
        "id": "TEbd8MEfgD2M",
        "outputId": "b8a3634d-7432-4af9-9a77-3c7416d00828"
      },
      "execution_count": null,
      "outputs": [
        {
          "output_type": "stream",
          "name": "stdout",
          "text": [
            "Iris Dataset:\n",
            "    sepal_length  sepal_width  petal_length  petal_width species\n",
            "0           5.1          3.5           1.4          0.2  setosa\n",
            "1           4.9          3.0           1.4          0.2  setosa\n",
            "2           4.7          3.2           1.3          0.2  setosa\n",
            "3           4.6          3.1           1.5          0.2  setosa\n",
            "4           5.0          3.6           1.4          0.2  setosa\n",
            "\n",
            "Iris Dataset Shape: (150, 5)\n",
            "\n",
            "Iris Dataset Columns: Index(['sepal_length', 'sepal_width', 'petal_length', 'petal_width',\n",
            "       'species'],\n",
            "      dtype='object')\n",
            "\n",
            "Iris Dataset Empty rows:\n",
            " sepal_length    0\n",
            "sepal_width     0\n",
            "petal_length    0\n",
            "petal_width     0\n",
            "species         0\n",
            "dtype: int64\n"
          ]
        }
      ]
    },
    {
      "cell_type": "code",
      "source": [
        "# Task 2: Calculate Mean, Median, Mode, Standard Deviation, Range, and Variance\n",
        "\n",
        "# Mean of 'sepal_length'\n",
        "mean_sepal_length = data['sepal_length'].mean()\n",
        "print(f\"\\nMean Sepal Length: {mean_sepal_length:.2f}\")\n",
        "\n",
        "# Median of 'sepal_length'\n",
        "median_sepal_length = data['sepal_length'].median()\n",
        "print(f\"Median Sepal Length: {median_sepal_length:.2f}\")\n",
        "\n",
        "# Mode of 'sepal_length'\n",
        "mode_sepal_length = stats.mode(data['sepal_length'])[0]\n",
        "print(f\"Mode Sepal Length: {mode_sepal_length:.2f}\")\n",
        "\n",
        "# Range of 'sepal_length'\n",
        "range_sepal_length = data['sepal_length'].max() - data['sepal_length'].min()\n",
        "print(f\"Range of Sepal Length: {range_sepal_length:.2f}\")\n",
        "\n",
        "# Variance of 'sepal_length'\n",
        "variance_sepal_length = data['sepal_length'].var()\n",
        "print(f\"Variance of Sepal Length: {variance_sepal_length:.2f}\")\n",
        "\n",
        "# Standard deviation of 'sepal_length'\n",
        "std_sepal_length = data['sepal_length'].std()\n",
        "print(f\"Standard Deviation of Sepal Length: {std_sepal_length:.2f}\")"
      ],
      "metadata": {
        "colab": {
          "base_uri": "https://localhost:8080/"
        },
        "id": "4Tmfl0gPhPFg",
        "outputId": "8f60d79b-fce3-41bf-d91e-7f6e6bf48f6e"
      },
      "execution_count": null,
      "outputs": [
        {
          "output_type": "stream",
          "name": "stdout",
          "text": [
            "\n",
            "Mean Sepal Length: 5.84\n",
            "Median Sepal Length: 5.80\n",
            "Mode Sepal Length: 5.00\n",
            "Range of Sepal Length: 3.60\n",
            "Variance of Sepal Length: 0.69\n",
            "Standard Deviation of Sepal Length: 0.83\n"
          ]
        }
      ]
    },
    {
      "cell_type": "markdown",
      "source": [
        "**Exercise 2: Visualizing Data Distributions with Histograms**"
      ],
      "metadata": {
        "id": "qos6OZq_hmPY"
      }
    },
    {
      "cell_type": "code",
      "source": [
        "# Task 1: Plot a Histogram of Sepal Lengths\n",
        "plt.figure(figsize=(8, 6))\n",
        "# Create the histogram with KDE\n",
        "sns.histplot(data['sepal_length'], bins=10, kde=True, color='blue', label='KDE Curve')\n",
        "# Add a title and labels\n",
        "plt.title(\"Distribution of Sepal Lengths\", fontsize=16)\n",
        "plt.xlabel(\"Sepal Length (cm)\", fontsize=12)\n",
        "plt.ylabel(\"Frequency\", fontsize=12)\n",
        "# Add a legend\n",
        "plt.legend(title='Legend', loc='upper right')\n",
        "# Save the figure\n",
        "plt.savefig(\"sepal_length_distribution.png\", dpi=300, bbox_inches='tight')\n",
        "# Show the plot\n",
        "plt.show()"
      ],
      "metadata": {
        "colab": {
          "base_uri": "https://localhost:8080/",
          "height": 570
        },
        "id": "PONEG5BIhp8y",
        "outputId": "4ce8fca0-d902-4a5f-adfb-e50cdd74336b"
      },
      "execution_count": null,
      "outputs": [
        {
          "output_type": "display_data",
          "data": {
            "text/plain": [
              "<Figure size 800x600 with 1 Axes>"
            ],
            "image/png": "[encoded data removed]"
          },
          "metadata": {}
        }
      ]
    },
    {
      "cell_type": "markdown",
      "source": [
        "**Exercise 3: Exploring Data Distributions**"
      ],
      "metadata": {
        "id": "uRzze0RS3Xrr"
      }
    },
    {
      "cell_type": "code",
      "source": [
        "# Task 1: Explore Data Distribution for Sepal Length\n",
        "# Skewness of 'sepal_length'\n",
        "sepal_length_skewness = data['sepal_length'].skew()\n",
        "print(\"\\nSkewness of Sepal Length:\", sepal_length_skewness)\n",
        "\n",
        "# Checking if 'sepal_length' is normally distributed\n",
        "sns.histplot(data['sepal_length'], kde=True)\n",
        "plt.title(\"Normality Check of Sepal Length\")\n",
        "plt.show()"
      ],
      "metadata": {
        "id": "GTG7Q6qi3dTe"
      },
      "execution_count": null,
      "outputs": []
    },
    {
      "cell_type": "code",
      "source": [
        "# Task 2: Explore Data Distribution for Petal Width\n",
        "# Skewness of 'petal_width'\n",
        "petal_width_skewness = data['petal_width'].skew()\n",
        "print(\"\\nSkewness of Petal Width:\", petal_width_skewness)\n",
        "\n",
        "# Plot histogram for 'petal_width'\n",
        "sns.histplot(data['petal_width'], kde=True)\n",
        "plt.title(\"Normality Check of Petal Width\")\n",
        "plt.show()\n",
        "\n",
        "# Exercise 4: Mini-Project - Analyzing a Dataset\n",
        "# Task 1: Choose a New Dataset (You can use a dataset from kaggle or keep using the Iris dataset)\n",
        "# Task 2: Compute Descriptive Statistics for the new dataset and repeat the steps above for more practice.\n",
        "\n"
      ],
      "metadata": {
        "id": "OCfKV8vLekHE"
      },
      "execution_count": null,
      "outputs": []
    },
    {
      "cell_type": "code",
      "source": [
        "# Task 2: Visualize Another Feature (e.g., Petal Length)\n",
        "plt.figure(figsize=(8, 6))\n",
        "sns.histplot(data['petal_length'], bins=15, kde=True, color='green')\n",
        "plt.title(\"Distribution of Petal Lengths\", fontsize=16)\n",
        "plt.xlabel(\"Petal Length (cm)\", fontsize=12)\n",
        "plt.ylabel(\"Frequency\", fontsize=12)\n",
        "plt.show()"
      ],
      "metadata": {
        "id": "O2uEvfujhtkm"
      },
      "execution_count": null,
      "outputs": []
    }
  ]
}